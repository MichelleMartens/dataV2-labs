{
 "cells": [
  {
   "cell_type": "code",
   "execution_count": 2,
   "metadata": {},
   "outputs": [
    {
     "name": "stdout",
     "output_type": "stream",
     "text": [
      "15\n"
     ]
    }
   ],
   "source": [
    "#function to, given an integer input, add the numbers 1...number\n",
    "\n",
    "n = 5\n",
    "\n",
    "def sum_of_number (number):\n",
    "    for i in range (1,number):\n",
    "        number+=i\n",
    "    return number\n",
    "    \n",
    "print(sum_of_number(n))\n",
    "\n"
   ]
  },
  {
   "cell_type": "code",
   "execution_count": 5,
   "metadata": {},
   "outputs": [
    {
     "name": "stdout",
     "output_type": "stream",
     "text": [
      "15\n"
     ]
    }
   ],
   "source": [
    "n = 5\n",
    "\n",
    "def sum_of_number (number):\n",
    "    result =0\n",
    "    for i in range (1,number+1):\n",
    "        result+=i\n",
    "    return result\n",
    "    \n",
    "print(sum_of_number(n))"
   ]
  },
  {
   "cell_type": "code",
   "execution_count": 6,
   "metadata": {},
   "outputs": [
    {
     "data": {
      "text/plain": [
       "28"
      ]
     },
     "execution_count": 6,
     "metadata": {},
     "output_type": "execute_result"
    }
   ],
   "source": [
    "def sumup(n):\n",
    "    result = sum(range(n+1))\n",
    "    return(result)\n",
    "sumup(7)"
   ]
  },
  {
   "cell_type": "code",
   "execution_count": 8,
   "metadata": {},
   "outputs": [
    {
     "data": {
      "text/plain": [
       "28"
      ]
     },
     "execution_count": 8,
     "metadata": {},
     "output_type": "execute_result"
    }
   ],
   "source": [
    "def sumup(n):\n",
    "    return(sum(range(n+1)))\n",
    "sumup(7)"
   ]
  },
  {
   "cell_type": "code",
   "execution_count": null,
   "metadata": {},
   "outputs": [],
   "source": [
    "bag_of_words = []\n",
    "for x in docslist:\n",
    "    if x not in bag_of_words:\n",
    "        bag_of_words.append(x)\n",
    "        \n",
    "def convert(bag_of_words):\n",
    "    return([i for item in lst for i in item.split()])\n",
    "print(convert(bag_of_words))\n",
    "\n",
    "\n",
    "term_freq = []\n",
    "for x in docslist:\n",
    "    term_freq.append(docslist.count(x))\n",
    "    \n",
    "    for i in range(len(docslist)):\n",
    "    docslist[i] = docslist[i].lower()\n",
    "\n",
    "print(docslist)\n",
    "\n",
    "def convert(docslist):\n",
    "    return([i for item in lst for i in item.split()])\n",
    "print(convert(docslist))"
   ]
  },
  {
   "cell_type": "code",
   "execution_count": null,
   "metadata": {},
   "outputs": [],
   "source": []
  }
 ],
 "metadata": {
  "kernelspec": {
   "display_name": "Python 3",
   "language": "python",
   "name": "python3"
  },
  "language_info": {
   "codemirror_mode": {
    "name": "ipython",
    "version": 3
   },
   "file_extension": ".py",
   "mimetype": "text/x-python",
   "name": "python",
   "nbconvert_exporter": "python",
   "pygments_lexer": "ipython3",
   "version": "3.7.0"
  }
 },
 "nbformat": 4,
 "nbformat_minor": 2
}
