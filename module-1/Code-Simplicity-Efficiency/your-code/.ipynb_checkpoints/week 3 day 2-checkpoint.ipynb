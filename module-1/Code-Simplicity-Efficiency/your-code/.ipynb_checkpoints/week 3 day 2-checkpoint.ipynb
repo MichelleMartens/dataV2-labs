{
 "cells": [
  {
   "cell_type": "code",
   "execution_count": 1,
   "metadata": {},
   "outputs": [
    {
     "data": {
      "text/plain": [
       "'/Users/michelle/Documents/Ironhack/dataV2-labs/dataV2-labs/module-1/Code-Simplicity-Efficiency/your-code'"
      ]
     },
     "execution_count": 1,
     "metadata": {},
     "output_type": "execute_result"
    }
   ],
   "source": [
    "import os\n",
    "os.getcwd()"
   ]
  },
  {
   "cell_type": "code",
   "execution_count": 25,
   "metadata": {},
   "outputs": [],
   "source": [
    "# exec(open(\"challenge-1.py\").read())"
   ]
  },
  {
   "cell_type": "code",
   "execution_count": null,
   "metadata": {},
   "outputs": [],
   "source": []
  },
  {
   "cell_type": "code",
   "execution_count": 22,
   "metadata": {},
   "outputs": [
    {
     "name": "stdout",
     "output_type": "stream",
     "text": [
      "Welcome to this calculator!\n",
      "It can add and subtract whole numbers from zero to five\n",
      "Please choose your first number (zero to five): 1\n",
      "What do you want to do? plus or minus: -\n",
      "Please choose your second number (zero to five): 1\n",
      "0\n",
      "Thanks for using this calculator, goodbye :)\n"
     ]
    }
   ],
   "source": [
    "# def add(num_1, num_2):\n",
    "#     return num_1 + num_2\n",
    "\n",
    "# def subtract(num_1, num_2):\n",
    "#     return (num_1 - num_2)\n",
    "\n",
    "# print('Welcome to this calculator!')\n",
    "# print('It can add and subtract whole numbers from zero to five')\n",
    "# a = input('Please choose your first number (zero to five): ')\n",
    "# b = input('What do you want to do? plus or minus: ')\n",
    "# c = input('Please choose your second number (zero to five): ')\n",
    "\n",
    "# if b == '+':\n",
    "#     print(add(int(a), int(c)))\n",
    "# elif b == '-':\n",
    "#     print(subtract(int(a), int(c)))\n",
    "# else:\n",
    "#     print(\"I am not able to answer this question. Check your input.\")\n",
    "\n",
    "# print(\"Thanks for using this calculator, goodbye :)\")\n",
    "    \n",
    "          \n",
    "          "
   ]
  },
  {
   "cell_type": "code",
   "execution_count": null,
   "metadata": {},
   "outputs": [],
   "source": [
    "exec(open(\"challenge-2.py\").read())"
   ]
  },
  {
   "cell_type": "code",
   "execution_count": null,
   "metadata": {},
   "outputs": [],
   "source": []
  }
 ],
 "metadata": {
  "kernelspec": {
   "display_name": "Python 3",
   "language": "python",
   "name": "python3"
  },
  "language_info": {
   "codemirror_mode": {
    "name": "ipython",
    "version": 3
   },
   "file_extension": ".py",
   "mimetype": "text/x-python",
   "name": "python",
   "nbconvert_exporter": "python",
   "pygments_lexer": "ipython3",
   "version": "3.7.0"
  }
 },
 "nbformat": 4,
 "nbformat_minor": 2
}
