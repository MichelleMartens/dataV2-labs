{
 "cells": [
  {
   "cell_type": "markdown",
   "metadata": {},
   "source": [
    "In the cell below, create a Python function that wraps your previous solution for the Bag of Words lab.\n",
    "\n",
    "Requirements:\n",
    "\n",
    "1. Your function should accept the following parameters:\n",
    "    * `docs` [REQUIRED] - array of document paths.\n",
    "    * `stop_words` [OPTIONAL] - array of stop words. The default value is an empty array.\n",
    "\n",
    "1. Your function should return a Python object that contains the following:\n",
    "    * `bag_of_words` - array of strings of normalized unique words in the corpus.\n",
    "    * `term_freq` - array of the term-frequency vectors."
   ]
  },
  {
   "cell_type": "code",
   "execution_count": 6,
   "metadata": {},
   "outputs": [
    {
     "name": "stdout",
     "output_type": "stream",
     "text": [
      "[]\n"
     ]
    }
   ],
   "source": [
    "# Import required libraries\n",
    "\n",
    "import re\n",
    "\n",
    "corpus = [\"Ironhack is cool!\", \"I love Ironhack.\", \"I am a student at Ironhack.\"]\n",
    "\n",
    "corpus_2 = []\n",
    "bag_of_words = []\n",
    "term_freq = []\n",
    "doc_list = []\n",
    "\n",
    "def get_bow_from_docs(corpus, stop_words=[]):\n",
    "\n",
    "    corpus_2 = []\n",
    "    bag_of_words = []\n",
    "    term_freq = []\n",
    "    doc_list = []\n",
    "\n",
    "    for word in corpus:\n",
    "        word = re.sub('\\W', ' ',word)\n",
    "        word = word.lower().split()\n",
    "        corpus_2.append(word)\n",
    "        \n",
    "    for string in corpus_2:\n",
    "        for word in string:\n",
    "            if word not in bag_of_words and word not in stop_words:\n",
    "                bag_of_words.append(word)\n",
    "\n",
    "    for doc in corpus_2:\n",
    "        doc_list = []\n",
    "        for subdoc in bag_of_words:\n",
    "            if subdoc in doc:\n",
    "                doc_list.append(1)\n",
    "            else:\n",
    "                doc_list.append(0)\n",
    "        term_freq.append(doc_list)\n",
    "            \n",
    "#     return corpus_2\n",
    "\n",
    "    return {\n",
    "        \"bag_of_words\": bag_of_words,\n",
    "        \"term_freq\": term_freq\n",
    "    }\n",
    "\n",
    "#     return {\"bag_of_words\": bag_of_words,\n",
    "#         \"term_freq\": term_freq}\n",
    "\n",
    "\n",
    "# print(bag_of_words)\n",
    "# print(term_freq)\n"
   ]
  },
  {
   "cell_type": "code",
   "execution_count": 55,
   "metadata": {},
   "outputs": [],
   "source": [
    "# #Return bag_of_words\n",
    "    \n",
    "    \n",
    "# # for word in corpus:\n",
    "# #     term_freq.append(corpus.count(x))\n",
    "    \n",
    "# # print(term_freq)\n",
    "    \n",
    "\n",
    "\n",
    "    \n",
    "\n",
    "\n",
    "    \n",
    "#     # In the function, first define the variables you will use such as `corpus`, `bag_of_words`, and `term_freq`.\n",
    "    \n",
    "    \n",
    "# \"\"\"\n",
    "#     Loop `docs` and read the content of each doc into a string in `corpus`.\n",
    "#     Remember to convert the doc content to lowercases and remove punctuation.\n",
    "# \"\"\"\n",
    "\n",
    " \n",
    "    \n",
    "# \"\"\"\n",
    "#     Loop `corpus`. Append the terms in each doc into the `bag_of_words` array. The terms in `bag_of_words` \n",
    "#     should be unique which means before adding each term you need to check if it's already added to the array.\n",
    "#     In addition, check if each term is in the `stop_words` array. Only append the term to `bag_of_words`\n",
    "#     if it is not a stop word.\n",
    "# \"\"\"\n",
    "\n",
    "    \n",
    "    \n",
    "    \n",
    "# \"\"\"\n",
    "#  Loop `corpus` again. For each doc string, count the number of occurrences of each term in `bag_of_words`. \n",
    "#  Create an array for each doc's term frequency and append it to `term_freq`.\n",
    "# \"\"\"\n",
    "\n",
    "    \n",
    "    \n",
    "#     # Now return your output as an object"
   ]
  },
  {
   "cell_type": "markdown",
   "metadata": {},
   "source": [
    "Test your function without stop words. You should see the output like below:\n",
    "\n",
    "```{'bag_of_words': ['ironhack', 'is', 'cool', 'i', 'love', 'am', 'a', 'student', 'at'], 'term_freq': [[1, 1, 1, 0, 0, 0, 0, 0, 0], [1, 0, 0, 1, 1, 0, 0, 0, 0], [1, 0, 0, 1, 0, 1, 1, 1, 1]]}```"
   ]
  },
  {
   "cell_type": "code",
   "execution_count": 9,
   "metadata": {},
   "outputs": [
    {
     "name": "stdout",
     "output_type": "stream",
     "text": [
      "{'bag_of_words': ['ironhack', 'is', 'cool', 'i', 'love', 'am', 'a', 'student', 'at'], 'term_freq': [[1, 1, 1, 0, 0, 0, 0, 0, 0], [1, 0, 0, 1, 1, 0, 0, 0, 0], [1, 0, 0, 1, 0, 1, 1, 1, 1]]}\n"
     ]
    }
   ],
   "source": [
    "# Define doc paths array\n",
    "docs = ['Ironhack is Cool!', 'I love Ironhack', 'I am a student at Ironhack.']\n",
    "\n",
    "# Obtain BoW from your function\n",
    "bow = get_bow_from_docs(docs)\n",
    "\n",
    "# Print BoW\n",
    "print(bow)"
   ]
  },
  {
   "cell_type": "markdown",
   "metadata": {},
   "source": [
    "If your attempt above is successful, nice work done!\n",
    "\n",
    "Now test your function again with the stop words. In the previous lab we defined the stop words in a large array. In this lab, we'll import the stop words from Scikit-Learn."
   ]
  },
  {
   "cell_type": "code",
   "execution_count": 10,
   "metadata": {},
   "outputs": [
    {
     "name": "stdout",
     "output_type": "stream",
     "text": [
      "frozenset({'noone', 'nowhere', 'more', 'bill', 'over', 'ltd', 'call', 'cant', 'must', 'though', 'please', 'out', 'once', 'nine', 'and', 'up', 'are', 'hundred', 'somehow', 'toward', 'even', 'less', 'indeed', 'thru', 'while', 'under', 'her', 'cry', 'get', 'go', 'nothing', 'something', 'because', 'latter', 'thick', 'any', 'neither', 'whereafter', 'onto', 'being', 'enough', 'these', 'anyhow', 'hereby', 'nobody', 'two', 'next', 'after', 'thus', 'me', 'who', 'such', 'twelve', 'am', 'between', 'fire', 'before', 'another', 'put', 'now', 'first', 'beyond', 'that', 'she', 'sincere', 'rather', 'sometime', 'thence', 'front', 'twenty', 'their', 'to', 'he', 'fill', 'latterly', 'or', 'had', 'four', 'our', 'however', 'although', 'becomes', 'move', 'upon', 'five', 'side', 'all', 'back', 'several', 'done', 'without', 'thereafter', 'is', 'how', 'above', 'via', 'cannot', 'other', 'about', 'seems', 'inc', 'together', 'behind', 'take', 'see', 'mostly', 'becoming', 'there', 'well', 'may', 'seemed', 'myself', 'whether', 'seem', 'himself', 'fifty', 'due', 'as', 'whoever', 'few', 'down', 'nevertheless', 'not', 'always', 'within', 'you', 'become', 'every', 'ever', 'still', 'throughout', 'ten', 'on', 'but', 'least', 'found', 'herself', 'those', 'elsewhere', 'anyone', 'thereupon', 'mill', 'thin', 'whereby', 'along', 'the', 'couldnt', 'amount', 'during', 'will', 'almost', 'perhaps', 'show', 'meanwhile', 'whence', 'been', 'an', 'anywhere', 'nor', 'your', 'own', 'name', 'then', 'top', 'was', 'never', 'themselves', 'others', 'describe', 'can', 'full', 'much', 'it', 'whose', 'itself', 'former', 'eight', 'of', 'among', 'through', 'also', 'system', 'same', 'than', 'hence', 'besides', 'this', 'three', 'sometimes', 'per', 'only', 'be', 'ours', 'do', 'each', 'eleven', 'if', 'thereby', 'sixty', 'either', 'made', 'one', 'hers', 'amoungst', 'across', 'they', 'what', 'whatever', 'many', 'no', 'none', 'anything', 'except', 'forty', 'hasnt', 'whither', 'where', 'a', 'often', 'everyone', 'everything', 'herein', 'somewhere', 'very', 'should', 'him', 'yourselves', 'mine', 'already', 'etc', 'part', 'serious', 'un', 'would', 'again', 'have', 'for', 'yet', 'wherever', 'bottom', 'six', 'find', 'whereupon', 'from', 'therefore', 'beforehand', 'which', 'de', 'we', 'detail', 'whom', 'them', 'around', 'became', 'moreover', 'by', 'eg', 'ie', 'below', 'whole', 'seeming', 'us', 'whenever', 'con', 'his', 'afterwards', 'with', 'why', 'namely', 'since', 'both', 'hereupon', 'amongst', 'empty', 'at', 'here', 'interest', 'last', 'its', 'else', 'i', 'has', 'my', 'give', 'beside', 'ourselves', 're', 'fifteen', 'wherein', 'further', 'alone', 'otherwise', 'were', 'formerly', 'in', 'into', 'someone', 'anyway', 'everywhere', 'might', 'keep', 'yours', 'against', 'hereafter', 'therein', 'too', 'whereas', 'towards', 'yourself', 'could', 'when', 'some', 'third', 'so', 'most', 'until', 'off', 'co'})\n"
     ]
    }
   ],
   "source": [
    "from sklearn.feature_extraction import stop_words\n",
    "print(stop_words.ENGLISH_STOP_WORDS)"
   ]
  },
  {
   "cell_type": "markdown",
   "metadata": {},
   "source": [
    "You should have seen a large list of words that looks like:\n",
    "\n",
    "```frozenset({'across', 'mine', 'cannot', ...})```\n",
    "\n",
    "`frozenset` is a type of Python object that is immutable. In this lab you can use it just like an array without conversion."
   ]
  },
  {
   "cell_type": "markdown",
   "metadata": {},
   "source": [
    "Next, test your function with supplying `stop_words.ENGLISH_STOP_WORDS` as the second parameter."
   ]
  },
  {
   "cell_type": "code",
   "execution_count": 12,
   "metadata": {},
   "outputs": [
    {
     "name": "stdout",
     "output_type": "stream",
     "text": [
      "{'bag_of_words': ['ironhack', 'cool', 'love', 'student'], 'term_freq': [[1, 1, 0, 0], [1, 0, 1, 0], [1, 0, 0, 1]]}\n"
     ]
    }
   ],
   "source": [
    "bow = get_bow_from_docs(docs, stop_words.ENGLISH_STOP_WORDS)\n",
    "\n",
    "print(bow)"
   ]
  },
  {
   "cell_type": "markdown",
   "metadata": {},
   "source": [
    "You should have seen:\n",
    "\n",
    "```{'bag_of_words': ['ironhack', 'cool', 'love', 'student'], 'term_freq': [[1, 1, 0, 0], [1, 0, 1, 0], [1, 0, 0, 1]]}```"
   ]
  },
  {
   "cell_type": "code",
   "execution_count": null,
   "metadata": {},
   "outputs": [],
   "source": []
  },
  {
   "cell_type": "code",
   "execution_count": null,
   "metadata": {},
   "outputs": [],
   "source": [
    "\n"
   ]
  }
 ],
 "metadata": {
  "kernelspec": {
   "display_name": "Python 3",
   "language": "python",
   "name": "python3"
  },
  "language_info": {
   "codemirror_mode": {
    "name": "ipython",
    "version": 3
   },
   "file_extension": ".py",
   "mimetype": "text/x-python",
   "name": "python",
   "nbconvert_exporter": "python",
   "pygments_lexer": "ipython3",
   "version": "3.7.0"
  }
 },
 "nbformat": 4,
 "nbformat_minor": 2
}
