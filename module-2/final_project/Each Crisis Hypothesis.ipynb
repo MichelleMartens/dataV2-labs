{
 "cells": [
  {
   "cell_type": "code",
   "execution_count": 1,
   "metadata": {},
   "outputs": [],
   "source": [
    "import pandas as pd\n",
    "import numpy as np\n",
    "from scipy.stats import ttest_1samp\n",
    "from scipy.stats import t\n",
    "from scipy.stats import stats\n",
    "from scipy.stats import ttest_rel"
   ]
  },
  {
   "cell_type": "code",
   "execution_count": 2,
   "metadata": {},
   "outputs": [
    {
     "data": {
      "text/html": [
       "<div>\n",
       "<style scoped>\n",
       "    .dataframe tbody tr th:only-of-type {\n",
       "        vertical-align: middle;\n",
       "    }\n",
       "\n",
       "    .dataframe tbody tr th {\n",
       "        vertical-align: top;\n",
       "    }\n",
       "\n",
       "    .dataframe thead th {\n",
       "        text-align: right;\n",
       "    }\n",
       "</style>\n",
       "<table border=\"1\" class=\"dataframe\">\n",
       "  <thead>\n",
       "    <tr style=\"text-align: right;\">\n",
       "      <th></th>\n",
       "      <th>Sector</th>\n",
       "      <th>Date</th>\n",
       "      <th>Close</th>\n",
       "    </tr>\n",
       "  </thead>\n",
       "  <tbody>\n",
       "    <tr>\n",
       "      <th>0</th>\n",
       "      <td>Communication Services</td>\n",
       "      <td>2019-09-03</td>\n",
       "      <td>169.790003</td>\n",
       "    </tr>\n",
       "    <tr>\n",
       "      <th>1</th>\n",
       "      <td>Communication Services</td>\n",
       "      <td>2020-03-18</td>\n",
       "      <td>147.466923</td>\n",
       "    </tr>\n",
       "    <tr>\n",
       "      <th>2</th>\n",
       "      <td>Communication Services</td>\n",
       "      <td>2020-11-17</td>\n",
       "      <td>234.972695</td>\n",
       "    </tr>\n",
       "    <tr>\n",
       "      <th>3</th>\n",
       "      <td>Consumer Discretionary</td>\n",
       "      <td>2019-09-03</td>\n",
       "      <td>232.081802</td>\n",
       "    </tr>\n",
       "    <tr>\n",
       "      <th>4</th>\n",
       "      <td>Consumer Discretionary</td>\n",
       "      <td>2020-03-18</td>\n",
       "      <td>161.072459</td>\n",
       "    </tr>\n",
       "  </tbody>\n",
       "</table>\n",
       "</div>"
      ],
      "text/plain": [
       "                   Sector        Date       Close\n",
       "0  Communication Services  2019-09-03  169.790003\n",
       "1  Communication Services  2020-03-18  147.466923\n",
       "2  Communication Services  2020-11-17  234.972695\n",
       "3  Consumer Discretionary  2019-09-03  232.081802\n",
       "4  Consumer Discretionary  2020-03-18  161.072459"
      ]
     },
     "execution_count": 2,
     "metadata": {},
     "output_type": "execute_result"
    }
   ],
   "source": [
    "close = pd.read_csv('close_hypothesis.csv')\n",
    "close.drop(columns=['Unnamed: 0'], inplace=True)\n",
    "close.head()"
   ]
  },
  {
   "cell_type": "code",
   "execution_count": 67,
   "metadata": {},
   "outputs": [],
   "source": [
    "# dataframe September\n",
    "# close_sept = close.loc[(close.Date == '2019-09-03')]\n",
    "# close_sept = close_sept.reset_index()\n",
    "# close_sept = close_sept.drop(columns=['index'])\n",
    "# close_sept"
   ]
  },
  {
   "cell_type": "code",
   "execution_count": 66,
   "metadata": {},
   "outputs": [],
   "source": [
    "# dataframe Today\n",
    "# close_today = close.loc[(close.Date == '2020-11-17')]\n",
    "# close_today = close_today.reset_index()\n",
    "# close_today = close_today.drop(columns=['index'])\n",
    "# close_today"
   ]
  },
  {
   "cell_type": "code",
   "execution_count": 7,
   "metadata": {},
   "outputs": [
    {
     "data": {
      "text/plain": [
       "Ttest_relResult(statistic=-3.334932699715988, pvalue=0.007554766295281089)"
      ]
     },
     "execution_count": 7,
     "metadata": {},
     "output_type": "execute_result"
    }
   ],
   "source": [
    "\"\"\"\n",
    "Hypothesis COVID Crisis\n",
    "\n",
    "H0: the Covid-19 has no impact on stockprices (stockprices 6 months before = stock prices today)\n",
    "H1: the Covid-19 has impact on stockprices (stock prices 6 months before != stock prices today)\n",
    "\"\"\"\n",
    "\n",
    "ttest_rel(close_sept.Close, close_today.Close)"
   ]
  },
  {
   "cell_type": "code",
   "execution_count": 68,
   "metadata": {},
   "outputs": [
    {
     "data": {
      "text/html": [
       "<div>\n",
       "<style scoped>\n",
       "    .dataframe tbody tr th:only-of-type {\n",
       "        vertical-align: middle;\n",
       "    }\n",
       "\n",
       "    .dataframe tbody tr th {\n",
       "        vertical-align: top;\n",
       "    }\n",
       "\n",
       "    .dataframe thead th {\n",
       "        text-align: right;\n",
       "    }\n",
       "</style>\n",
       "<table border=\"1\" class=\"dataframe\">\n",
       "  <thead>\n",
       "    <tr style=\"text-align: right;\">\n",
       "      <th></th>\n",
       "      <th>ticker</th>\n",
       "      <th>open</th>\n",
       "      <th>close</th>\n",
       "      <th>adj_close</th>\n",
       "      <th>low</th>\n",
       "      <th>high</th>\n",
       "      <th>volume</th>\n",
       "      <th>date</th>\n",
       "      <th>exchange</th>\n",
       "      <th>name</th>\n",
       "      <th>sector</th>\n",
       "      <th>industry</th>\n",
       "    </tr>\n",
       "  </thead>\n",
       "  <tbody>\n",
       "    <tr>\n",
       "      <th>0</th>\n",
       "      <td>AHH</td>\n",
       "      <td>11.50</td>\n",
       "      <td>11.58</td>\n",
       "      <td>8.493155</td>\n",
       "      <td>11.25</td>\n",
       "      <td>11.68</td>\n",
       "      <td>4633900</td>\n",
       "      <td>2013-05-08</td>\n",
       "      <td>NYSE</td>\n",
       "      <td>ARMADA HOFFLER PROPERTIES, INC.</td>\n",
       "      <td>FINANCE</td>\n",
       "      <td>REAL ESTATE</td>\n",
       "    </tr>\n",
       "    <tr>\n",
       "      <th>1</th>\n",
       "      <td>AHH</td>\n",
       "      <td>11.66</td>\n",
       "      <td>11.55</td>\n",
       "      <td>8.471151</td>\n",
       "      <td>11.50</td>\n",
       "      <td>11.66</td>\n",
       "      <td>275800</td>\n",
       "      <td>2013-05-09</td>\n",
       "      <td>NYSE</td>\n",
       "      <td>ARMADA HOFFLER PROPERTIES, INC.</td>\n",
       "      <td>FINANCE</td>\n",
       "      <td>REAL ESTATE</td>\n",
       "    </tr>\n",
       "    <tr>\n",
       "      <th>2</th>\n",
       "      <td>AHH</td>\n",
       "      <td>11.55</td>\n",
       "      <td>11.60</td>\n",
       "      <td>8.507822</td>\n",
       "      <td>11.50</td>\n",
       "      <td>11.60</td>\n",
       "      <td>277100</td>\n",
       "      <td>2013-05-10</td>\n",
       "      <td>NYSE</td>\n",
       "      <td>ARMADA HOFFLER PROPERTIES, INC.</td>\n",
       "      <td>FINANCE</td>\n",
       "      <td>REAL ESTATE</td>\n",
       "    </tr>\n",
       "    <tr>\n",
       "      <th>3</th>\n",
       "      <td>AHH</td>\n",
       "      <td>11.63</td>\n",
       "      <td>11.65</td>\n",
       "      <td>8.544494</td>\n",
       "      <td>11.55</td>\n",
       "      <td>11.65</td>\n",
       "      <td>147400</td>\n",
       "      <td>2013-05-13</td>\n",
       "      <td>NYSE</td>\n",
       "      <td>ARMADA HOFFLER PROPERTIES, INC.</td>\n",
       "      <td>FINANCE</td>\n",
       "      <td>REAL ESTATE</td>\n",
       "    </tr>\n",
       "    <tr>\n",
       "      <th>4</th>\n",
       "      <td>AHH</td>\n",
       "      <td>11.60</td>\n",
       "      <td>11.53</td>\n",
       "      <td>8.456484</td>\n",
       "      <td>11.50</td>\n",
       "      <td>11.60</td>\n",
       "      <td>184100</td>\n",
       "      <td>2013-05-14</td>\n",
       "      <td>NYSE</td>\n",
       "      <td>ARMADA HOFFLER PROPERTIES, INC.</td>\n",
       "      <td>FINANCE</td>\n",
       "      <td>REAL ESTATE</td>\n",
       "    </tr>\n",
       "    <tr>\n",
       "      <th>...</th>\n",
       "      <td>...</td>\n",
       "      <td>...</td>\n",
       "      <td>...</td>\n",
       "      <td>...</td>\n",
       "      <td>...</td>\n",
       "      <td>...</td>\n",
       "      <td>...</td>\n",
       "      <td>...</td>\n",
       "      <td>...</td>\n",
       "      <td>...</td>\n",
       "      <td>...</td>\n",
       "      <td>...</td>\n",
       "    </tr>\n",
       "    <tr>\n",
       "      <th>20973884</th>\n",
       "      <td>NZF</td>\n",
       "      <td>14.60</td>\n",
       "      <td>14.59</td>\n",
       "      <td>14.590000</td>\n",
       "      <td>14.58</td>\n",
       "      <td>14.62</td>\n",
       "      <td>137500</td>\n",
       "      <td>2018-08-20</td>\n",
       "      <td>NYSE</td>\n",
       "      <td>NUVEEN MUNICIPAL CREDIT INCOME FUND</td>\n",
       "      <td>OTHERS</td>\n",
       "      <td>OTHERS</td>\n",
       "    </tr>\n",
       "    <tr>\n",
       "      <th>20973885</th>\n",
       "      <td>NZF</td>\n",
       "      <td>14.60</td>\n",
       "      <td>14.58</td>\n",
       "      <td>14.580000</td>\n",
       "      <td>14.57</td>\n",
       "      <td>14.61</td>\n",
       "      <td>151200</td>\n",
       "      <td>2018-08-21</td>\n",
       "      <td>NYSE</td>\n",
       "      <td>NUVEEN MUNICIPAL CREDIT INCOME FUND</td>\n",
       "      <td>OTHERS</td>\n",
       "      <td>OTHERS</td>\n",
       "    </tr>\n",
       "    <tr>\n",
       "      <th>20973886</th>\n",
       "      <td>NZF</td>\n",
       "      <td>14.58</td>\n",
       "      <td>14.59</td>\n",
       "      <td>14.590000</td>\n",
       "      <td>14.57</td>\n",
       "      <td>14.63</td>\n",
       "      <td>185400</td>\n",
       "      <td>2018-08-22</td>\n",
       "      <td>NYSE</td>\n",
       "      <td>NUVEEN MUNICIPAL CREDIT INCOME FUND</td>\n",
       "      <td>OTHERS</td>\n",
       "      <td>OTHERS</td>\n",
       "    </tr>\n",
       "    <tr>\n",
       "      <th>20973887</th>\n",
       "      <td>NZF</td>\n",
       "      <td>14.60</td>\n",
       "      <td>14.57</td>\n",
       "      <td>14.570000</td>\n",
       "      <td>14.57</td>\n",
       "      <td>14.64</td>\n",
       "      <td>135600</td>\n",
       "      <td>2018-08-23</td>\n",
       "      <td>NYSE</td>\n",
       "      <td>NUVEEN MUNICIPAL CREDIT INCOME FUND</td>\n",
       "      <td>OTHERS</td>\n",
       "      <td>OTHERS</td>\n",
       "    </tr>\n",
       "    <tr>\n",
       "      <th>20973888</th>\n",
       "      <td>NZF</td>\n",
       "      <td>14.60</td>\n",
       "      <td>14.69</td>\n",
       "      <td>14.690000</td>\n",
       "      <td>14.59</td>\n",
       "      <td>14.69</td>\n",
       "      <td>180900</td>\n",
       "      <td>2018-08-24</td>\n",
       "      <td>NYSE</td>\n",
       "      <td>NUVEEN MUNICIPAL CREDIT INCOME FUND</td>\n",
       "      <td>OTHERS</td>\n",
       "      <td>OTHERS</td>\n",
       "    </tr>\n",
       "  </tbody>\n",
       "</table>\n",
       "<p>20973889 rows × 12 columns</p>\n",
       "</div>"
      ],
      "text/plain": [
       "         ticker   open  close  adj_close    low   high   volume        date  \\\n",
       "0           AHH  11.50  11.58   8.493155  11.25  11.68  4633900  2013-05-08   \n",
       "1           AHH  11.66  11.55   8.471151  11.50  11.66   275800  2013-05-09   \n",
       "2           AHH  11.55  11.60   8.507822  11.50  11.60   277100  2013-05-10   \n",
       "3           AHH  11.63  11.65   8.544494  11.55  11.65   147400  2013-05-13   \n",
       "4           AHH  11.60  11.53   8.456484  11.50  11.60   184100  2013-05-14   \n",
       "...         ...    ...    ...        ...    ...    ...      ...         ...   \n",
       "20973884    NZF  14.60  14.59  14.590000  14.58  14.62   137500  2018-08-20   \n",
       "20973885    NZF  14.60  14.58  14.580000  14.57  14.61   151200  2018-08-21   \n",
       "20973886    NZF  14.58  14.59  14.590000  14.57  14.63   185400  2018-08-22   \n",
       "20973887    NZF  14.60  14.57  14.570000  14.57  14.64   135600  2018-08-23   \n",
       "20973888    NZF  14.60  14.69  14.690000  14.59  14.69   180900  2018-08-24   \n",
       "\n",
       "         exchange                                 name   sector     industry  \n",
       "0            NYSE      ARMADA HOFFLER PROPERTIES, INC.  FINANCE  REAL ESTATE  \n",
       "1            NYSE      ARMADA HOFFLER PROPERTIES, INC.  FINANCE  REAL ESTATE  \n",
       "2            NYSE      ARMADA HOFFLER PROPERTIES, INC.  FINANCE  REAL ESTATE  \n",
       "3            NYSE      ARMADA HOFFLER PROPERTIES, INC.  FINANCE  REAL ESTATE  \n",
       "4            NYSE      ARMADA HOFFLER PROPERTIES, INC.  FINANCE  REAL ESTATE  \n",
       "...           ...                                  ...      ...          ...  \n",
       "20973884     NYSE  NUVEEN MUNICIPAL CREDIT INCOME FUND   OTHERS       OTHERS  \n",
       "20973885     NYSE  NUVEEN MUNICIPAL CREDIT INCOME FUND   OTHERS       OTHERS  \n",
       "20973886     NYSE  NUVEEN MUNICIPAL CREDIT INCOME FUND   OTHERS       OTHERS  \n",
       "20973887     NYSE  NUVEEN MUNICIPAL CREDIT INCOME FUND   OTHERS       OTHERS  \n",
       "20973888     NYSE  NUVEEN MUNICIPAL CREDIT INCOME FUND   OTHERS       OTHERS  \n",
       "\n",
       "[20973889 rows x 12 columns]"
      ]
     },
     "execution_count": 68,
     "metadata": {},
     "output_type": "execute_result"
    }
   ],
   "source": [
    "merged = pd.read_csv('merged_stock_real_clean_1970.csv')\n",
    "merged.drop(columns=['Unnamed: 0'], inplace=True)\n",
    "merged"
   ]
  },
  {
   "cell_type": "code",
   "execution_count": 70,
   "metadata": {},
   "outputs": [
    {
     "data": {
      "text/html": [
       "<div>\n",
       "<style scoped>\n",
       "    .dataframe tbody tr th:only-of-type {\n",
       "        vertical-align: middle;\n",
       "    }\n",
       "\n",
       "    .dataframe tbody tr th {\n",
       "        vertical-align: top;\n",
       "    }\n",
       "\n",
       "    .dataframe thead th {\n",
       "        text-align: right;\n",
       "    }\n",
       "</style>\n",
       "<table border=\"1\" class=\"dataframe\">\n",
       "  <thead>\n",
       "    <tr style=\"text-align: right;\">\n",
       "      <th></th>\n",
       "      <th>sector</th>\n",
       "      <th>date</th>\n",
       "      <th>adj_close</th>\n",
       "    </tr>\n",
       "  </thead>\n",
       "  <tbody>\n",
       "    <tr>\n",
       "      <th>0</th>\n",
       "      <td>BASIC INDUSTRIES</td>\n",
       "      <td>1970-01-02</td>\n",
       "      <td>1.063425</td>\n",
       "    </tr>\n",
       "    <tr>\n",
       "      <th>1</th>\n",
       "      <td>BASIC INDUSTRIES</td>\n",
       "      <td>1970-01-05</td>\n",
       "      <td>1.069841</td>\n",
       "    </tr>\n",
       "    <tr>\n",
       "      <th>2</th>\n",
       "      <td>BASIC INDUSTRIES</td>\n",
       "      <td>1970-01-06</td>\n",
       "      <td>1.061485</td>\n",
       "    </tr>\n",
       "    <tr>\n",
       "      <th>3</th>\n",
       "      <td>BASIC INDUSTRIES</td>\n",
       "      <td>1970-01-07</td>\n",
       "      <td>1.046998</td>\n",
       "    </tr>\n",
       "    <tr>\n",
       "      <th>4</th>\n",
       "      <td>BASIC INDUSTRIES</td>\n",
       "      <td>1970-01-08</td>\n",
       "      <td>1.049458</td>\n",
       "    </tr>\n",
       "    <tr>\n",
       "      <th>...</th>\n",
       "      <td>...</td>\n",
       "      <td>...</td>\n",
       "      <td>...</td>\n",
       "    </tr>\n",
       "    <tr>\n",
       "      <th>154546</th>\n",
       "      <td>TRANSPORTATION</td>\n",
       "      <td>2018-08-20</td>\n",
       "      <td>38.769419</td>\n",
       "    </tr>\n",
       "    <tr>\n",
       "      <th>154547</th>\n",
       "      <td>TRANSPORTATION</td>\n",
       "      <td>2018-08-21</td>\n",
       "      <td>39.013512</td>\n",
       "    </tr>\n",
       "    <tr>\n",
       "      <th>154548</th>\n",
       "      <td>TRANSPORTATION</td>\n",
       "      <td>2018-08-22</td>\n",
       "      <td>38.841133</td>\n",
       "    </tr>\n",
       "    <tr>\n",
       "      <th>154549</th>\n",
       "      <td>TRANSPORTATION</td>\n",
       "      <td>2018-08-23</td>\n",
       "      <td>38.936009</td>\n",
       "    </tr>\n",
       "    <tr>\n",
       "      <th>154550</th>\n",
       "      <td>TRANSPORTATION</td>\n",
       "      <td>2018-08-24</td>\n",
       "      <td>39.110009</td>\n",
       "    </tr>\n",
       "  </tbody>\n",
       "</table>\n",
       "<p>154551 rows × 3 columns</p>\n",
       "</div>"
      ],
      "text/plain": [
       "                  sector        date  adj_close\n",
       "0       BASIC INDUSTRIES  1970-01-02   1.063425\n",
       "1       BASIC INDUSTRIES  1970-01-05   1.069841\n",
       "2       BASIC INDUSTRIES  1970-01-06   1.061485\n",
       "3       BASIC INDUSTRIES  1970-01-07   1.046998\n",
       "4       BASIC INDUSTRIES  1970-01-08   1.049458\n",
       "...                  ...         ...        ...\n",
       "154546    TRANSPORTATION  2018-08-20  38.769419\n",
       "154547    TRANSPORTATION  2018-08-21  39.013512\n",
       "154548    TRANSPORTATION  2018-08-22  38.841133\n",
       "154549    TRANSPORTATION  2018-08-23  38.936009\n",
       "154550    TRANSPORTATION  2018-08-24  39.110009\n",
       "\n",
       "[154551 rows x 3 columns]"
      ]
     },
     "execution_count": 70,
     "metadata": {},
     "output_type": "execute_result"
    }
   ],
   "source": [
    "pivot = merged.groupby(['sector', 'date'])['adj_close'].mean().reset_index()\n",
    "pivot."
   ]
  },
  {
   "cell_type": "code",
   "execution_count": 80,
   "metadata": {},
   "outputs": [],
   "source": [
    "# close_oil = pivot.loc[(pivot.date == '1973-01-03') | (pivot.date == '1974-01-03')]\n",
    "# close_oil = close_oil.reset_index()\n",
    "# close_oil = close_oil[:-2]\n",
    "# close_oil\n",
    "\n",
    "# later will adjust the tech sector"
   ]
  },
  {
   "cell_type": "code",
   "execution_count": 81,
   "metadata": {},
   "outputs": [],
   "source": [
    "# dataframe before\n",
    "# close_before = close_oil.loc[(close_oil.date == '1973-01-03')]\n",
    "# close_before = close_before.reset_index()\n",
    "# close_before"
   ]
  },
  {
   "cell_type": "code",
   "execution_count": 82,
   "metadata": {},
   "outputs": [],
   "source": [
    "# dataframe after\n",
    "# close_after = close_oil.loc[(close_oil.date == '1974-01-03')]\n",
    "# close_after = close_after.reset_index()\n",
    "# close_after"
   ]
  },
  {
   "cell_type": "code",
   "execution_count": 79,
   "metadata": {},
   "outputs": [
    {
     "data": {
      "text/plain": [
       "Ttest_relResult(statistic=1.0451635703346702, pvalue=0.3232054841336793)"
      ]
     },
     "execution_count": 79,
     "metadata": {},
     "output_type": "execute_result"
    }
   ],
   "source": [
    "\"\"\"\n",
    "# 1. Oil Crisis 1973 - 1974\n",
    "Hypothesis Oil Crisis\n",
    "\n",
    "H0: the Oil Crisis had no impact on stockprices (stockprices before = stock prices after)\n",
    "H1: the Oil Crisis had impact on stockprices (stock prices before != stock prices after)\n",
    "\"\"\"\n",
    "\n",
    "ttest_rel(close_before.adj_close, close_after.adj_close)"
   ]
  },
  {
   "cell_type": "code",
   "execution_count": 120,
   "metadata": {},
   "outputs": [],
   "source": [
    "# close_monday = pivot.loc[(pivot.date == '1987-03-02') | (pivot.date == '1988-03-01')]\n",
    "# close_monday = close_monday.reset_index()\n",
    "# close_monday"
   ]
  },
  {
   "cell_type": "code",
   "execution_count": 98,
   "metadata": {},
   "outputs": [],
   "source": [
    "# dataframe before\n",
    "# close_bm = close_monday.loc[(close_monday.date == '1987-03-02')]\n",
    "# close_bm = close_bm.reset_index()\n",
    "# close_bm"
   ]
  },
  {
   "cell_type": "code",
   "execution_count": 99,
   "metadata": {},
   "outputs": [],
   "source": [
    "# close_am = close_monday.loc[(close_monday.date == '1988-03-01')]\n",
    "# close_am = close_am.reset_index()\n",
    "# close_am"
   ]
  },
  {
   "cell_type": "code",
   "execution_count": 91,
   "metadata": {},
   "outputs": [
    {
     "data": {
      "text/plain": [
       "Ttest_relResult(statistic=0.9999999999999997, pvalue=0.3370490579535844)"
      ]
     },
     "execution_count": 91,
     "metadata": {},
     "output_type": "execute_result"
    }
   ],
   "source": [
    "\"\"\"\n",
    "# 2. Black Monday 1987 19 October\n",
    "Hypothesis Wall Street Crisis\n",
    "\n",
    "H0: the Covid-19 has no impact on stockprices (stockprices 6 months before = stock prices today)\n",
    "H1: the Covid-19 has impact on stockprices (stock prices 6 months before != stock prices today)\n",
    "\"\"\"\n",
    "\n",
    "ttest_rel(close_bm.adj_close, close_am.adj_close)"
   ]
  },
  {
   "cell_type": "code",
   "execution_count": 118,
   "metadata": {},
   "outputs": [],
   "source": [
    "# close_dot = pivot.loc[(pivot.date == '2000-01-03') | (pivot.date == '2000-12-01')]\n",
    "# close_dot = close_dot.reset_index()\n",
    "# close_dot"
   ]
  },
  {
   "cell_type": "code",
   "execution_count": 104,
   "metadata": {},
   "outputs": [],
   "source": [
    "# dataframe before\n",
    "# close_bdot = close_dot.loc[(close_dot.date == '2000-01-03')]\n",
    "# close_bdot = close_bdot.reset_index()\n",
    "# close_bdot"
   ]
  },
  {
   "cell_type": "code",
   "execution_count": 105,
   "metadata": {},
   "outputs": [],
   "source": [
    "# dataframe after\n",
    "# close_adot = close_dot.loc[(close_dot.date == '2000-12-01')]\n",
    "# close_adot = close_adot.reset_index()\n",
    "# close_adot"
   ]
  },
  {
   "cell_type": "code",
   "execution_count": 102,
   "metadata": {},
   "outputs": [
    {
     "data": {
      "text/plain": [
       "Ttest_relResult(statistic=1.2452442397125567, pvalue=0.23680989214736478)"
      ]
     },
     "execution_count": 102,
     "metadata": {},
     "output_type": "execute_result"
    }
   ],
   "source": [
    "\"\"\"\n",
    "# 3. Dot com bubble 1997\n",
    "Hypothesis Dot com Crisis\n",
    "\n",
    "H0: the Covid-19 has no impact on stockprices (stockprices 6 months before = stock prices today)\n",
    "H1: the Covid-19 has impact on stockprices (stock prices 6 months before != stock prices today)\n",
    "\"\"\"\n",
    "\n",
    "ttest_rel(close_bdot.adj_close, close_adot.adj_close)"
   ]
  },
  {
   "cell_type": "code",
   "execution_count": 114,
   "metadata": {},
   "outputs": [],
   "source": [
    "# close_fin = pivot.loc[(pivot.date == '2008-03-03') | (pivot.date == '2009-03-02')]\n",
    "# close_fin = close_fin.reset_index()\n",
    "# close_fin = close_fin[:-2]\n",
    "# will adjust transportation later"
   ]
  },
  {
   "cell_type": "code",
   "execution_count": 115,
   "metadata": {},
   "outputs": [],
   "source": [
    "# dataframe before\n",
    "# close_bfin = close_fin.loc[(close_fin.date == '2008-03-03')]\n",
    "# close_bfin = close_bfin.reset_index()\n",
    "# close_bfin"
   ]
  },
  {
   "cell_type": "code",
   "execution_count": 116,
   "metadata": {},
   "outputs": [],
   "source": [
    "# dataframe after\n",
    "# close_afin = close_fin.loc[(close_fin.date == '2009-03-02')]\n",
    "# close_afin = close_afin.reset_index()\n",
    "# close_afin"
   ]
  },
  {
   "cell_type": "code",
   "execution_count": 113,
   "metadata": {},
   "outputs": [
    {
     "data": {
      "text/plain": [
       "Ttest_relResult(statistic=2.6692256059153516, pvalue=0.02182416987537949)"
      ]
     },
     "execution_count": 113,
     "metadata": {},
     "output_type": "execute_result"
    }
   ],
   "source": [
    "\"\"\"\n",
    "# 4. Financial Crisis 2008 \n",
    "Hypothesis Dot com Crisis\n",
    "\n",
    "H0: the Covid-19 has no impact on stockprices (stockprices 6 months before = stock prices today)\n",
    "H1: the Covid-19 has impact on stockprices (stock prices 6 months before != stock prices today)\n",
    "\"\"\"\n",
    "\n",
    "ttest_rel(close_bfin.adj_close, close_afin.adj_close)"
   ]
  },
  {
   "cell_type": "code",
   "execution_count": null,
   "metadata": {},
   "outputs": [],
   "source": []
  }
 ],
 "metadata": {
  "kernelspec": {
   "display_name": "Python 3",
   "language": "python",
   "name": "python3"
  },
  "language_info": {
   "codemirror_mode": {
    "name": "ipython",
    "version": 3
   },
   "file_extension": ".py",
   "mimetype": "text/x-python",
   "name": "python",
   "nbconvert_exporter": "python",
   "pygments_lexer": "ipython3",
   "version": "3.7.0"
  }
 },
 "nbformat": 4,
 "nbformat_minor": 2
}
