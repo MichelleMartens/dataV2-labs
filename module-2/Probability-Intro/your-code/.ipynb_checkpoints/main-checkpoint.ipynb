{
 "cells": [
  {
   "cell_type": "markdown",
   "metadata": {},
   "source": [
    "# Introduction To Probability\n",
    "## Challenge 1\n",
    "\n",
    "A and B are events of a probability space with $(\\omega, \\sigma, P)$ such that $P(A) = 0.3$, $P(B) = 0.6$ and $P(A \\cap B) = 0.1$\n",
    "\n",
    "Which of the following statements are false?\n",
    "* $P(A \\cup B) = 0.6$\n",
    "* $P(A \\cap B^{C}) = 0.2$\n",
    "* $P(A \\cap (B \\cup B^{C})) = 0.4$\n",
    "* $P(A^{C} \\cap B^{C}) = 0.3$\n",
    "* $P((A \\cap B)^{C}) = 0.9$"
   ]
  },
  {
   "cell_type": "code",
   "execution_count": null,
   "metadata": {},
   "outputs": [],
   "source": [
    "\"\"\"\n",
    "P(A) = 0.3\n",
    "P(B) = 0.6\n",
    "P(A∩B) = 0.1\n",
    "\n",
    "union = ∪\n",
    "intersection = ∩\n",
    "P(AC) = 1 - P(A) = complement of A\n",
    "P(AC) = 0.7\n",
    "P(BC) = 0.4\n",
    "\n",
    "\n",
    "FALSE\n",
    "P(A∪B)=0.6 \n",
    "because it should be summed (0.9) and the intersection should be subtracted\n",
    "as you don't want two of the same values in your union so minus 0.1 = 0.8\n",
    "\n",
    "P(AC∩BC)=0.3 \n",
    "= P(A∪B)C = 1 - 0.8 = 0.2\n",
    "\n",
    "P(A∩(B∪BC))=0.4 \n",
    "BUBC = 1\n",
    "= P(A) = 0.3\n",
    "as (for instance it are numbers from 1 to 10, B = 1 meaning that i has \n",
    "all the number from 1 to 10, A = 0.3 so it has 3 numbers out of 10, \n",
    "therefore there intersection will be these three numbers)\n",
    "\n",
    "\n",
    "TRUE\n",
    "P(A∩BC)=0.2 \n",
    "0.3 - 0.1 = 0.2\n",
    "\n",
    "P((A∩B)C)=0.9\n",
    "1 - 0.1 = 0.9\n",
    "\n",
    "\"\"\""
   ]
  },
  {
   "cell_type": "markdown",
   "metadata": {},
   "source": [
    "## Challenge 2\n",
    "There is a box with 10 white balls, 12 red balls and 8 black balls. Calculate the probability of:\n",
    "* Taking a white ball out.\n",
    "* Taking a white ball out after taking a black ball out.\n",
    "* Taking a red ball out after taking a black and a red ball out.\n",
    "* Taking a red ball out after taking a black and a red ball out with reposition.\n",
    "\n",
    "**Hint**: Reposition means putting back the ball into the box after taking it out."
   ]
  },
  {
   "cell_type": "code",
   "execution_count": null,
   "metadata": {},
   "outputs": [],
   "source": [
    "\"\"\"\n",
    "white = 10\n",
    "red = 12\n",
    "black = 8\n",
    "total = 30\n",
    "\n",
    "taking a white ball:\n",
    "10/30 = 1/3\n",
    "\n",
    "Taking a white ball out after taking a black ball out:\n",
    "10/29 \n",
    "\n",
    "Taking a red ball out after taking a black and a red ball out:\n",
    "11/28\n",
    "\n",
    "Taking a red ball out after taking a black and a red ball out with reposition:\n",
    "#assume that reposition means that you put them back\n",
    "12/30\n",
    "\n",
    "\"\"\""
   ]
  },
  {
   "cell_type": "markdown",
   "metadata": {},
   "source": [
    "## Challenge 3\n",
    "\n",
    "You are planning to go on a picnic today but the morning is cloudy. You hate rain so you don't know whether to go out or stay home! To help you make a decision, you gather the following data about rainy days:\n",
    "\n",
    "* 50% of all rainy days start off cloudy!\n",
    "* Cloudy mornings are common. About 40% of days start cloudy. \n",
    "* This month is usually dry so only 3 of 30 days (10%) tend to be rainy. \n",
    "\n",
    "What is the chance of rain during the day?"
   ]
  },
  {
   "cell_type": "code",
   "execution_count": null,
   "metadata": {},
   "outputs": [],
   "source": [
    "\"\"\"\n",
    "rainy days = 50% starts with cloudy mornings\n",
    "cloudy mornings = 40%\n",
    "this month = 10% rain\n",
    "\n",
    "P(Cloud|Rain) = 50%\n",
    "P(Rain) = 10%\n",
    "P(Cloud) = 40%\n",
    "\n",
    "--> the chance of rain given it is cloudy\n",
    "P(Rain|Cloud) = P(Rain∩Cloud) / P(Cloud)\n",
    "\n",
    "P(Rain|Cloud) = (P(Rain) * P(Cloud|Rain)) / P(Cloud)\n",
    "= 0.1 x 0.5 / 0.4 = 0.125\n",
    "\n",
    "so 12,5%\n",
    "\"\"\""
   ]
  },
  {
   "cell_type": "markdown",
   "metadata": {},
   "source": [
    "## Challenge 4\n",
    "\n",
    "One thousand people were asked through a telephone survey whether they thought more street lighting is needed at night or not.\n",
    "\n",
    "Out of the 480 men that answered the survey, 324 said yes and 156 said no. On the other hand, out of the 520 women that answered, 351 said yes and 169 said no. \n",
    "\n",
    "We wonder if men and women have a different opinions about the street lighting matter. Is gender relevant or irrelevant to the question?\n",
    "\n",
    "Consider the following events:\n",
    "- The answer is yes, so the person that answered thinks that more street lighting is needed.\n",
    "- The person who answered is a man.\n",
    "\n",
    "We want to know if these events are independent, that is, if the fact of wanting more light depends on whether one is male or female. Are these events independent or not?\n",
    "\n",
    "**Hint**: To clearly compare the answers by gender, it is best to place the data in a table."
   ]
  },
  {
   "cell_type": "code",
   "execution_count": null,
   "metadata": {},
   "outputs": [],
   "source": [
    "# your code here"
   ]
  },
  {
   "cell_type": "code",
   "execution_count": null,
   "metadata": {},
   "outputs": [],
   "source": [
    "\"\"\"\n",
    "480 Men:    YES  324 NO 156\n",
    "520 Woman:  YES  351 NO 169 \n",
    "\n",
    "event a = yes more streetlight is needed\n",
    "event b = gender man\n",
    "\n",
    "P(A) --> 675/1000 = 67.5%\n",
    "P(A) --> 325/1000\n",
    "\n",
    "P(B) --> gender men --> 480 / 1000 = 48%\n",
    "P(B)C --> gender women --> 520 / 1000\n",
    "\n",
    "\n",
    "In order for 2 events A and B to be independent, \n",
    "at least one of the following statements must be true:\n",
    "\n",
    "P(A)*P(B) = P(A ∩ B)\n",
    "= True \n",
    "67,5% x 48% = 32,4% = 324\n",
    "so 324 man (the same as the number of man that voted)\n",
    "\n",
    "P(A|B) = P(A)\n",
    "\n",
    "P(B|A) = P(B)\n",
    "\n",
    "\n",
    "\"\"\""
   ]
  }
 ],
 "metadata": {
  "kernelspec": {
   "display_name": "Python 3",
   "language": "python",
   "name": "python3"
  },
  "language_info": {
   "codemirror_mode": {
    "name": "ipython",
    "version": 3
   },
   "file_extension": ".py",
   "mimetype": "text/x-python",
   "name": "python",
   "nbconvert_exporter": "python",
   "pygments_lexer": "ipython3",
   "version": "3.7.0"
  }
 },
 "nbformat": 4,
 "nbformat_minor": 2
}
