{
 "cells": [
  {
   "cell_type": "code",
   "execution_count": 16,
   "metadata": {},
   "outputs": [],
   "source": [
    "import pandas as pd\n",
    "import numpy as np\n",
    "from scipy.stats import ttest_1samp\n",
    "from scipy.stats import t\n",
    "from scipy.stats import stats\n",
    "from scipy.stats import ttest_rel"
   ]
  },
  {
   "cell_type": "code",
   "execution_count": 30,
   "metadata": {},
   "outputs": [
    {
     "data": {
      "text/html": [
       "<div>\n",
       "<style scoped>\n",
       "    .dataframe tbody tr th:only-of-type {\n",
       "        vertical-align: middle;\n",
       "    }\n",
       "\n",
       "    .dataframe tbody tr th {\n",
       "        vertical-align: top;\n",
       "    }\n",
       "\n",
       "    .dataframe thead th {\n",
       "        text-align: right;\n",
       "    }\n",
       "</style>\n",
       "<table border=\"1\" class=\"dataframe\">\n",
       "  <thead>\n",
       "    <tr style=\"text-align: right;\">\n",
       "      <th></th>\n",
       "      <th>Date</th>\n",
       "      <th>Adj Close</th>\n",
       "      <th>Close</th>\n",
       "      <th>High</th>\n",
       "      <th>Low</th>\n",
       "      <th>Open</th>\n",
       "      <th>Ticker</th>\n",
       "      <th>Volume</th>\n",
       "      <th>Name</th>\n",
       "      <th>Sector</th>\n",
       "    </tr>\n",
       "  </thead>\n",
       "  <tbody>\n",
       "    <tr>\n",
       "      <th>0</th>\n",
       "      <td>2015-11-18</td>\n",
       "      <td>137.250717</td>\n",
       "      <td>157.389999</td>\n",
       "      <td>157.500000</td>\n",
       "      <td>156.080002</td>\n",
       "      <td>156.179993</td>\n",
       "      <td>MMM</td>\n",
       "      <td>2226900.0</td>\n",
       "      <td>3M Company</td>\n",
       "      <td>Industrials</td>\n",
       "    </tr>\n",
       "    <tr>\n",
       "      <th>1</th>\n",
       "      <td>2015-11-19</td>\n",
       "      <td>138.114029</td>\n",
       "      <td>158.380005</td>\n",
       "      <td>158.509995</td>\n",
       "      <td>156.710007</td>\n",
       "      <td>157.630005</td>\n",
       "      <td>MMM</td>\n",
       "      <td>1518200.0</td>\n",
       "      <td>3M Company</td>\n",
       "      <td>Industrials</td>\n",
       "    </tr>\n",
       "    <tr>\n",
       "      <th>2</th>\n",
       "      <td>2015-11-20</td>\n",
       "      <td>138.611099</td>\n",
       "      <td>158.949997</td>\n",
       "      <td>159.839996</td>\n",
       "      <td>158.339996</td>\n",
       "      <td>158.679993</td>\n",
       "      <td>MMM</td>\n",
       "      <td>1891100.0</td>\n",
       "      <td>3M Company</td>\n",
       "      <td>Industrials</td>\n",
       "    </tr>\n",
       "    <tr>\n",
       "      <th>3</th>\n",
       "      <td>2015-11-23</td>\n",
       "      <td>138.349503</td>\n",
       "      <td>158.649994</td>\n",
       "      <td>159.770004</td>\n",
       "      <td>158.160004</td>\n",
       "      <td>158.899994</td>\n",
       "      <td>MMM</td>\n",
       "      <td>1430400.0</td>\n",
       "      <td>3M Company</td>\n",
       "      <td>Industrials</td>\n",
       "    </tr>\n",
       "    <tr>\n",
       "      <th>4</th>\n",
       "      <td>2015-11-24</td>\n",
       "      <td>137.564667</td>\n",
       "      <td>157.750000</td>\n",
       "      <td>158.339996</td>\n",
       "      <td>156.889999</td>\n",
       "      <td>157.369995</td>\n",
       "      <td>MMM</td>\n",
       "      <td>2100600.0</td>\n",
       "      <td>3M Company</td>\n",
       "      <td>Industrials</td>\n",
       "    </tr>\n",
       "    <tr>\n",
       "      <th>...</th>\n",
       "      <td>...</td>\n",
       "      <td>...</td>\n",
       "      <td>...</td>\n",
       "      <td>...</td>\n",
       "      <td>...</td>\n",
       "      <td>...</td>\n",
       "      <td>...</td>\n",
       "      <td>...</td>\n",
       "      <td>...</td>\n",
       "      <td>...</td>\n",
       "    </tr>\n",
       "    <tr>\n",
       "      <th>625648</th>\n",
       "      <td>2020-11-11</td>\n",
       "      <td>164.949997</td>\n",
       "      <td>164.949997</td>\n",
       "      <td>165.919998</td>\n",
       "      <td>163.330002</td>\n",
       "      <td>164.990005</td>\n",
       "      <td>ZTS</td>\n",
       "      <td>1570200.0</td>\n",
       "      <td>Zoetis</td>\n",
       "      <td>Health Care</td>\n",
       "    </tr>\n",
       "    <tr>\n",
       "      <th>625649</th>\n",
       "      <td>2020-11-12</td>\n",
       "      <td>165.190002</td>\n",
       "      <td>165.190002</td>\n",
       "      <td>166.600006</td>\n",
       "      <td>163.789993</td>\n",
       "      <td>164.160004</td>\n",
       "      <td>ZTS</td>\n",
       "      <td>1182800.0</td>\n",
       "      <td>Zoetis</td>\n",
       "      <td>Health Care</td>\n",
       "    </tr>\n",
       "    <tr>\n",
       "      <th>625650</th>\n",
       "      <td>2020-11-13</td>\n",
       "      <td>165.779999</td>\n",
       "      <td>165.779999</td>\n",
       "      <td>167.029999</td>\n",
       "      <td>164.509995</td>\n",
       "      <td>165.460007</td>\n",
       "      <td>ZTS</td>\n",
       "      <td>1666600.0</td>\n",
       "      <td>Zoetis</td>\n",
       "      <td>Health Care</td>\n",
       "    </tr>\n",
       "    <tr>\n",
       "      <th>625651</th>\n",
       "      <td>2020-11-16</td>\n",
       "      <td>165.289993</td>\n",
       "      <td>165.289993</td>\n",
       "      <td>168.520004</td>\n",
       "      <td>164.600006</td>\n",
       "      <td>166.369995</td>\n",
       "      <td>ZTS</td>\n",
       "      <td>1548000.0</td>\n",
       "      <td>Zoetis</td>\n",
       "      <td>Health Care</td>\n",
       "    </tr>\n",
       "    <tr>\n",
       "      <th>625652</th>\n",
       "      <td>2020-11-17</td>\n",
       "      <td>165.429993</td>\n",
       "      <td>165.429993</td>\n",
       "      <td>166.110001</td>\n",
       "      <td>164.070007</td>\n",
       "      <td>164.490005</td>\n",
       "      <td>ZTS</td>\n",
       "      <td>1214300.0</td>\n",
       "      <td>Zoetis</td>\n",
       "      <td>Health Care</td>\n",
       "    </tr>\n",
       "  </tbody>\n",
       "</table>\n",
       "<p>625653 rows × 10 columns</p>\n",
       "</div>"
      ],
      "text/plain": [
       "              Date   Adj Close       Close        High         Low  \\\n",
       "0       2015-11-18  137.250717  157.389999  157.500000  156.080002   \n",
       "1       2015-11-19  138.114029  158.380005  158.509995  156.710007   \n",
       "2       2015-11-20  138.611099  158.949997  159.839996  158.339996   \n",
       "3       2015-11-23  138.349503  158.649994  159.770004  158.160004   \n",
       "4       2015-11-24  137.564667  157.750000  158.339996  156.889999   \n",
       "...            ...         ...         ...         ...         ...   \n",
       "625648  2020-11-11  164.949997  164.949997  165.919998  163.330002   \n",
       "625649  2020-11-12  165.190002  165.190002  166.600006  163.789993   \n",
       "625650  2020-11-13  165.779999  165.779999  167.029999  164.509995   \n",
       "625651  2020-11-16  165.289993  165.289993  168.520004  164.600006   \n",
       "625652  2020-11-17  165.429993  165.429993  166.110001  164.070007   \n",
       "\n",
       "              Open Ticker     Volume        Name       Sector  \n",
       "0       156.179993    MMM  2226900.0  3M Company  Industrials  \n",
       "1       157.630005    MMM  1518200.0  3M Company  Industrials  \n",
       "2       158.679993    MMM  1891100.0  3M Company  Industrials  \n",
       "3       158.899994    MMM  1430400.0  3M Company  Industrials  \n",
       "4       157.369995    MMM  2100600.0  3M Company  Industrials  \n",
       "...            ...    ...        ...         ...          ...  \n",
       "625648  164.990005    ZTS  1570200.0      Zoetis  Health Care  \n",
       "625649  164.160004    ZTS  1182800.0      Zoetis  Health Care  \n",
       "625650  165.460007    ZTS  1666600.0      Zoetis  Health Care  \n",
       "625651  166.369995    ZTS  1548000.0      Zoetis  Health Care  \n",
       "625652  164.490005    ZTS  1214300.0      Zoetis  Health Care  \n",
       "\n",
       "[625653 rows x 10 columns]"
      ]
     },
     "execution_count": 30,
     "metadata": {},
     "output_type": "execute_result"
    }
   ],
   "source": [
    "merged_stock = pd.read_csv('merged_stock_clean.csv')\n",
    "merged_stock.drop(columns=['Unnamed: 0'], inplace=True)\n",
    "merged_stock"
   ]
  },
  {
   "cell_type": "code",
   "execution_count": null,
   "metadata": {},
   "outputs": [],
   "source": [
    "\"\"\"\n",
    "Summary\n",
    "\n",
    "Sectors H0 is rejected\n",
    "- Communication Services Sector\n",
    "- Consumer Staples\n",
    "- Health Care\n",
    "- Information Technology\n",
    "- Materials"
   ]
  },
  {
   "cell_type": "code",
   "execution_count": 29,
   "metadata": {},
   "outputs": [],
   "source": [
    "# close = pd.read_csv('close_hypothesis.csv')\n",
    "# close.drop(columns=['Unnamed: 0'], inplace=True)\n",
    "# close.head()"
   ]
  },
  {
   "cell_type": "code",
   "execution_count": 25,
   "metadata": {},
   "outputs": [],
   "source": [
    "# dataframe September\n",
    "# close_sept = close.loc[(close.Date == '2019-09-03')]\n",
    "# close_sept = close_sept.reset_index()\n",
    "# close_sept = close_sept.drop(columns=['index'])\n",
    "# close_sept"
   ]
  },
  {
   "cell_type": "code",
   "execution_count": 26,
   "metadata": {},
   "outputs": [],
   "source": [
    "# dataframe Today\n",
    "# close_today = close.loc[(close.Date == '2020-11-17')]\n",
    "# close_today = close_today.reset_index()\n",
    "# close_today = close_today.drop(columns=['index'])\n",
    "# close_today"
   ]
  },
  {
   "cell_type": "code",
   "execution_count": 23,
   "metadata": {},
   "outputs": [
    {
     "data": {
      "text/plain": [
       "Ttest_relResult(statistic=-3.334932699715988, pvalue=0.007554766295281089)"
      ]
     },
     "execution_count": 23,
     "metadata": {},
     "output_type": "execute_result"
    }
   ],
   "source": [
    "\"\"\"\n",
    "Hypothesis all industries\n",
    "H0: the Covid-19 has no impact on stockprices (stockprices 6 months before = stock prices today)\n",
    "H1: the Covid-19 has impact on stockprices (stock prices 6 months after != stock prices today)\n",
    "\"\"\"\n",
    "\n",
    "ttest_rel(close_sept.Close, close_today.Close)"
   ]
  },
  {
   "cell_type": "code",
   "execution_count": 80,
   "metadata": {},
   "outputs": [],
   "source": [
    "# com = merged_stock.loc[merged_stock.Sector == 'Communication Services']\n",
    "# com = com.loc[(com.Date == '2019-11-01') | (com.Date == '2020-11-17')]\n",
    "# com"
   ]
  },
  {
   "cell_type": "code",
   "execution_count": 78,
   "metadata": {},
   "outputs": [],
   "source": [
    "# before = com.loc[(com.Date == '2019-11-01')]\n",
    "# before.shape"
   ]
  },
  {
   "cell_type": "code",
   "execution_count": 79,
   "metadata": {},
   "outputs": [],
   "source": [
    "# after = com.loc[(com.Date == '2020-11-17')]\n",
    "# after = after[:-1]\n",
    "# after.shape"
   ]
  },
  {
   "cell_type": "code",
   "execution_count": 77,
   "metadata": {},
   "outputs": [
    {
     "data": {
      "text/plain": [
       "Ttest_relResult(statistic=-2.2617619170919823, pvalue=0.033049177664997514)"
      ]
     },
     "execution_count": 77,
     "metadata": {},
     "output_type": "execute_result"
    }
   ],
   "source": [
    "\"\"\"\n",
    "Hypothesis Communication Services Sector\n",
    "H0: the Covid-19 has no impact on stockprices of the Communication Services Sector \n",
    "H1: the Covid-19 has impact on stockprices of the Communication Services Sector\n",
    "\"\"\"\n",
    "\n",
    "ttest_rel(before['Adj Close'], after['Adj Close'])"
   ]
  },
  {
   "cell_type": "code",
   "execution_count": 150,
   "metadata": {},
   "outputs": [],
   "source": [
    "# dis = merged_stock.loc[merged_stock.Sector == 'Consumer Discretionary']\n",
    "# dis = dis.loc[(dis.Date == '2019-11-01') | (dis.Date == '2020-11-17')]\n",
    "# dis"
   ]
  },
  {
   "cell_type": "code",
   "execution_count": 148,
   "metadata": {},
   "outputs": [],
   "source": [
    "# before = dis.loc[(dis.Date == '2019-11-01')]\n",
    "# before "
   ]
  },
  {
   "cell_type": "code",
   "execution_count": 149,
   "metadata": {},
   "outputs": [],
   "source": [
    "# after = dis.loc[(dis.Date == '2020-11-17')]\n",
    "# after"
   ]
  },
  {
   "cell_type": "code",
   "execution_count": 147,
   "metadata": {},
   "outputs": [
    {
     "data": {
      "text/plain": [
       "Ttest_relResult(statistic=-1.9287107935863375, pvalue=0.05850148296179331)"
      ]
     },
     "execution_count": 147,
     "metadata": {},
     "output_type": "execute_result"
    }
   ],
   "source": [
    "\"\"\"\n",
    "Hypothesis Consumer Discretionary\n",
    "H0: the Covid-19 has no impact on stockprices of the Consumer Discretionary\n",
    "H1: the Covid-19 has impact on stockprices of the Consumer Discretionary\n",
    "\"\"\"\n",
    "\n",
    "ttest_rel(before['Adj Close'], after['Adj Close'])\n",
    "\n",
    "# very close to the 0.05 treshold, therefore cannot reject H0\n",
    "# should perform chi square test"
   ]
  },
  {
   "cell_type": "code",
   "execution_count": 61,
   "metadata": {
    "scrolled": true
   },
   "outputs": [],
   "source": [
    "# staples = merged_stock.loc[merged_stock.Sector == 'Consumer Staples']\n",
    "# staples = staples.loc[(staples.Date == '2019-11-01') | (staples.Date == '2020-11-17')]\n",
    "# staples"
   ]
  },
  {
   "cell_type": "code",
   "execution_count": 60,
   "metadata": {},
   "outputs": [],
   "source": [
    "# before = staples.loc[(staples.Date == '2019-11-01')]\n",
    "# before"
   ]
  },
  {
   "cell_type": "code",
   "execution_count": 59,
   "metadata": {},
   "outputs": [],
   "source": [
    "# after = staples.loc[(staples.Date == '2020-11-17')]\n",
    "# after"
   ]
  },
  {
   "cell_type": "code",
   "execution_count": 58,
   "metadata": {},
   "outputs": [
    {
     "data": {
      "text/plain": [
       "Ttest_relResult(statistic=-3.5365669191957854, pvalue=0.0012990425190122707)"
      ]
     },
     "execution_count": 58,
     "metadata": {},
     "output_type": "execute_result"
    }
   ],
   "source": [
    "\"\"\"\n",
    "Hypothesis Consumer Staples\n",
    "H0: the Covid-19 has no impact on stockprices of the Consumer Staples\n",
    "H1: the Covid-19 has impact on stockprices of the Consumer Staples\n",
    "\"\"\"\n",
    "\n",
    "ttest_rel(before['Adj Close'], after['Adj Close'])"
   ]
  },
  {
   "cell_type": "code",
   "execution_count": 100,
   "metadata": {},
   "outputs": [],
   "source": [
    "# energy = merged_stock.loc[merged_stock.Sector == 'Energy']\n",
    "# energy = energy.loc[(energy.Date == '2019-11-01') | (energy.Date == '2020-11-17')]\n",
    "# energy"
   ]
  },
  {
   "cell_type": "code",
   "execution_count": 101,
   "metadata": {},
   "outputs": [],
   "source": [
    "# before = energy.loc[(energy.Date == '2019-11-01')]\n",
    "# before"
   ]
  },
  {
   "cell_type": "code",
   "execution_count": 102,
   "metadata": {},
   "outputs": [],
   "source": [
    "# after = energy.loc[(energy.Date == '2020-11-17')]\n",
    "# after"
   ]
  },
  {
   "cell_type": "code",
   "execution_count": 99,
   "metadata": {},
   "outputs": [
    {
     "data": {
      "text/plain": [
       "Ttest_relResult(statistic=0.4098355301240176, pvalue=0.6854172968806529)"
      ]
     },
     "execution_count": 99,
     "metadata": {},
     "output_type": "execute_result"
    }
   ],
   "source": [
    "\"\"\"\n",
    "Hypothesis Energy\n",
    "H0: the Covid-19 has no impact on stockprices of the Energy\n",
    "H1: the Covid-19 has impact on stockprices of the Energy\n",
    "\"\"\"\n",
    "\n",
    "ttest_rel(before['Adj Close'], after['Adj Close'])"
   ]
  },
  {
   "cell_type": "code",
   "execution_count": 114,
   "metadata": {},
   "outputs": [],
   "source": [
    "# finance = merged_stock.loc[merged_stock.Sector == 'Financials']\n",
    "# finance = finance.loc[(finance.Date == '2019-11-01') | (finance.Date == '2020-11-17')]\n",
    "# finance"
   ]
  },
  {
   "cell_type": "code",
   "execution_count": 115,
   "metadata": {},
   "outputs": [],
   "source": [
    "# before = finance.loc[(finance.Date == '2019-11-01')]\n",
    "# before = before[:-1]"
   ]
  },
  {
   "cell_type": "code",
   "execution_count": 116,
   "metadata": {},
   "outputs": [],
   "source": [
    "# after = finance.loc[(finance.Date == '2020-11-17')]\n",
    "# after"
   ]
  },
  {
   "cell_type": "code",
   "execution_count": 113,
   "metadata": {},
   "outputs": [
    {
     "data": {
      "text/plain": [
       "Ttest_relResult(statistic=-0.7171364883449877, pvalue=0.4759403991177521)"
      ]
     },
     "execution_count": 113,
     "metadata": {},
     "output_type": "execute_result"
    }
   ],
   "source": [
    "\"\"\"\n",
    "Hypothesis Financials\n",
    "H0: the Covid-19 has no impact on stockprices of the Financials\n",
    "H1: the Covid-19 has impact on stockprices of the Financials\n",
    "\"\"\"\n",
    "\n",
    "ttest_rel(before['Adj Close'], after['Adj Close'])"
   ]
  },
  {
   "cell_type": "code",
   "execution_count": 54,
   "metadata": {},
   "outputs": [],
   "source": [
    "# health = merged_stock.loc[merged_stock.Sector == 'Health Care']\n",
    "# health = health.loc[(health.Date == '2019-11-01') | (health.Date == '2020-11-17')]\n",
    "# health"
   ]
  },
  {
   "cell_type": "code",
   "execution_count": 53,
   "metadata": {},
   "outputs": [],
   "source": [
    "# before = health.loc[(health.Date == '2019-11-01')]\n",
    "# before"
   ]
  },
  {
   "cell_type": "code",
   "execution_count": 52,
   "metadata": {},
   "outputs": [],
   "source": [
    "# after = health.loc[(health.Date == '2020-11-17')]\n",
    "# after"
   ]
  },
  {
   "cell_type": "code",
   "execution_count": 49,
   "metadata": {},
   "outputs": [
    {
     "data": {
      "text/plain": [
       "Ttest_relResult(statistic=-4.9297253676913835, pvalue=6.645670430581135e-06)"
      ]
     },
     "execution_count": 49,
     "metadata": {},
     "output_type": "execute_result"
    }
   ],
   "source": [
    "\"\"\"\n",
    "Hypothesis Health Care\n",
    "H0: the Covid-19 has no impact on stockprices of the  Health Care\n",
    "H1: the Covid-19 has impact on stockprices of the Health Care\n",
    "\"\"\"\n",
    "\n",
    "ttest_rel(before['Adj Close'], after['Adj Close'])"
   ]
  },
  {
   "cell_type": "code",
   "execution_count": 50,
   "metadata": {},
   "outputs": [],
   "source": [
    "# industrials = merged_stock.loc[merged_stock.Sector == 'Industrials']\n",
    "# industrials = industrials.loc[(industrials.Date == '2019-11-01') | (industrials.Date == '2020-11-17')]\n",
    "# industrials\n",
    "\n",
    "# before = industrials.loc[(industrials.Date == '2019-11-01')]\n",
    "# before"
   ]
  },
  {
   "cell_type": "code",
   "execution_count": 51,
   "metadata": {},
   "outputs": [],
   "source": [
    "# after = industrials.loc[(industrials.Date == '2020-11-17')]\n",
    "# after = after[:-2]\n",
    "# after"
   ]
  },
  {
   "cell_type": "code",
   "execution_count": 44,
   "metadata": {},
   "outputs": [
    {
     "data": {
      "text/plain": [
       "Ttest_relResult(statistic=-1.0718426224851572, pvalue=0.28747224937420823)"
      ]
     },
     "execution_count": 44,
     "metadata": {},
     "output_type": "execute_result"
    }
   ],
   "source": [
    "\"\"\"\n",
    "Hypothesis Industrials\n",
    "H0: the Covid-19 has no impact on stockprices of the Industrials \n",
    "H1: the Covid-19 has impact on stockprices of the Industrials\n",
    "\"\"\"\n",
    "\n",
    "ttest_rel(before['Adj Close'], after['Adj Close'])"
   ]
  },
  {
   "cell_type": "code",
   "execution_count": 85,
   "metadata": {},
   "outputs": [],
   "source": [
    "# tech = merged_stock.loc[merged_stock.Sector == 'Information Technology']\n",
    "# tech = tech.loc[(tech.Date == '2019-11-01') | (tech.Date == '2020-11-17')]\n",
    "# tech"
   ]
  },
  {
   "cell_type": "code",
   "execution_count": 86,
   "metadata": {},
   "outputs": [],
   "source": [
    "# before = tech.loc[(tech.Date == '2019-11-01')]\n",
    "# before"
   ]
  },
  {
   "cell_type": "code",
   "execution_count": 87,
   "metadata": {},
   "outputs": [],
   "source": [
    "# after = tech.loc[(tech.Date == '2020-11-17')]\n",
    "# after"
   ]
  },
  {
   "cell_type": "code",
   "execution_count": 84,
   "metadata": {},
   "outputs": [
    {
     "data": {
      "text/plain": [
       "Ttest_relResult(statistic=-5.989128207878321, pvalue=8.188577275972626e-08)"
      ]
     },
     "execution_count": 84,
     "metadata": {},
     "output_type": "execute_result"
    }
   ],
   "source": [
    "\"\"\"\n",
    "Hypothesis Information Technology\n",
    "H0: the Covid-19 has no impact on stockprices of the Information Technology\n",
    "H1: the Covid-19 has impact on stockprices of the Information Technology\n",
    "\"\"\"\n",
    "\n",
    "ttest_rel(before['Adj Close'], after['Adj Close'])"
   ]
  },
  {
   "cell_type": "code",
   "execution_count": 94,
   "metadata": {},
   "outputs": [],
   "source": [
    "# mat = merged_stock.loc[merged_stock.Sector == 'Materials']\n",
    "# mat = mat.loc[(mat.Date == '2019-11-01') | (mat.Date == '2020-11-17')]\n",
    "# mat"
   ]
  },
  {
   "cell_type": "code",
   "execution_count": 93,
   "metadata": {},
   "outputs": [],
   "source": [
    "# before = mat.loc[(mat.Date == '2019-11-01')]\n",
    "# before"
   ]
  },
  {
   "cell_type": "code",
   "execution_count": 92,
   "metadata": {},
   "outputs": [],
   "source": [
    "# after = mat.loc[(mat.Date == '2020-11-17')]\n",
    "# after"
   ]
  },
  {
   "cell_type": "code",
   "execution_count": 91,
   "metadata": {},
   "outputs": [
    {
     "data": {
      "text/plain": [
       "Ttest_relResult(statistic=-3.24430379931921, pvalue=0.003131138201238118)"
      ]
     },
     "execution_count": 91,
     "metadata": {},
     "output_type": "execute_result"
    }
   ],
   "source": [
    "\"\"\"\n",
    "Hypothesis Materials\n",
    "H0: the Covid-19 has no impact on stockprices of the Materials\n",
    "H1: the Covid-19 has impact on stockprices of the Materials\n",
    "\"\"\"\n",
    "\n",
    "ttest_rel(before['Adj Close'], after['Adj Close'])"
   ]
  },
  {
   "cell_type": "code",
   "execution_count": 121,
   "metadata": {},
   "outputs": [],
   "source": [
    "# estate = merged_stock.loc[merged_stock.Sector == 'Real Estate']\n",
    "# estate = estate.loc[(estate.Date == '2019-11-01') | (estate.Date == '2020-11-17')]\n",
    "# estate"
   ]
  },
  {
   "cell_type": "code",
   "execution_count": 122,
   "metadata": {},
   "outputs": [],
   "source": [
    "# before = estate.loc[(estate.Date == '2019-11-01')]\n",
    "# before"
   ]
  },
  {
   "cell_type": "code",
   "execution_count": 123,
   "metadata": {},
   "outputs": [],
   "source": [
    "# after = estate.loc[(estate.Date == '2020-11-17')]\n",
    "# after"
   ]
  },
  {
   "cell_type": "code",
   "execution_count": 120,
   "metadata": {},
   "outputs": [
    {
     "data": {
      "text/plain": [
       "Ttest_relResult(statistic=-0.14771833236069717, pvalue=0.8835534223702335)"
      ]
     },
     "execution_count": 120,
     "metadata": {},
     "output_type": "execute_result"
    }
   ],
   "source": [
    "\"\"\"\n",
    "Hypothesis Real Estate\n",
    "H0: the Covid-19 has no impact on stockprices of the Real Estate \n",
    "H1: the Covid-19 has impact on stockprices of the Real Estate\n",
    "\"\"\"\n",
    "\n",
    "ttest_rel(before['Adj Close'], after['Adj Close'])"
   ]
  },
  {
   "cell_type": "code",
   "execution_count": 128,
   "metadata": {},
   "outputs": [],
   "source": [
    "# utilities = merged_stock.loc[merged_stock.Sector == 'Utilities']\n",
    "# utilities = utilities.loc[(utilities.Date == '2019-11-01') | (utilities.Date == '2020-11-17')]\n",
    "# utilities"
   ]
  },
  {
   "cell_type": "code",
   "execution_count": 129,
   "metadata": {},
   "outputs": [],
   "source": [
    "# before = utilities.loc[(utilities.Date == '2019-11-01')]\n",
    "# before"
   ]
  },
  {
   "cell_type": "code",
   "execution_count": 130,
   "metadata": {},
   "outputs": [],
   "source": [
    "# after = utilities.loc[(utilities.Date == '2020-11-17')]\n",
    "# after"
   ]
  },
  {
   "cell_type": "code",
   "execution_count": 127,
   "metadata": {},
   "outputs": [
    {
     "data": {
      "text/plain": [
       "Ttest_relResult(statistic=-1.0164804631411675, pvalue=0.3184232568049278)"
      ]
     },
     "execution_count": 127,
     "metadata": {},
     "output_type": "execute_result"
    }
   ],
   "source": [
    "\"\"\"\n",
    "Hypothesis Utilities\n",
    "H0: the Covid-19 has no impact on stockprices of the Utilities\n",
    "H1: the Covid-19 has impact on stockprices of the Utilities\n",
    "\"\"\"\n",
    "\n",
    "ttest_rel(before['Adj Close'], after['Adj Close'])"
   ]
  }
 ],
 "metadata": {
  "kernelspec": {
   "display_name": "Python 3",
   "language": "python",
   "name": "python3"
  },
  "language_info": {
   "codemirror_mode": {
    "name": "ipython",
    "version": 3
   },
   "file_extension": ".py",
   "mimetype": "text/x-python",
   "name": "python",
   "nbconvert_exporter": "python",
   "pygments_lexer": "ipython3",
   "version": "3.7.0"
  }
 },
 "nbformat": 4,
 "nbformat_minor": 2
}
