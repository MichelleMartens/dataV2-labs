{
 "cells": [
  {
   "cell_type": "code",
   "execution_count": null,
   "metadata": {},
   "outputs": [],
   "source": [
    "what I really like:\n",
    "    \n",
    "    the # with explanations, makes it already very clear for me\n",
    "    this is a very big PLUS\n",
    "    def game outlook --> looks very good, very short and clear, very amazed it worked!!\n",
    "    very nice & clear that you started with grid ex, making it very clear how to play the game\n",
    "    \n",
    "    the check rows, diagnols, columns very clear coded\n",
    "\n",
    "    very impressed by the function making!! very professional way of creating functions\n",
    "    also they way that it interacts with each other \n",
    "     \n",
    "    maybe begin with the input and there create a condition \n",
    "    if they place is already filled you could give them another try \n",
    "    \n",
    "    and after this with the condition of a maximum amount of moves, than the game stops \n",
    "    if nobody wins\n",
    "    \n",
    "    \n",
    "  \n",
    "    \n",
    " "
   ]
  }
 ],
 "metadata": {
  "kernelspec": {
   "display_name": "Python 3",
   "language": "python",
   "name": "python3"
  },
  "language_info": {
   "codemirror_mode": {
    "name": "ipython",
    "version": 3
   },
   "file_extension": ".py",
   "mimetype": "text/x-python",
   "name": "python",
   "nbconvert_exporter": "python",
   "pygments_lexer": "ipython3",
   "version": "3.7.0"
  }
 },
 "nbformat": 4,
 "nbformat_minor": 2
}
