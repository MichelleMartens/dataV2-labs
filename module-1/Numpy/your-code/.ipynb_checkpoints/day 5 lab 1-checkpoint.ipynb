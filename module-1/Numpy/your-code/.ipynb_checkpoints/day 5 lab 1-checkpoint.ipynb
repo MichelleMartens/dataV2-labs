{
 "cells": [
  {
   "cell_type": "markdown",
   "metadata": {},
   "source": [
    "# Introduction to NumPy\n",
    "\n",
    "\n",
    "#### 1. Import NumPy under the name np."
   ]
  },
  {
   "cell_type": "code",
   "execution_count": 1,
   "metadata": {},
   "outputs": [],
   "source": [
    "# your code here\n",
    "\n",
    "import numpy as np"
   ]
  },
  {
   "cell_type": "markdown",
   "metadata": {},
   "source": [
    "#### 2. Print your NumPy version."
   ]
  },
  {
   "cell_type": "code",
   "execution_count": 11,
   "metadata": {},
   "outputs": [
    {
     "name": "stdout",
     "output_type": "stream",
     "text": [
      "1.15.1\n"
     ]
    }
   ],
   "source": [
    "# your code here\n",
    "\n",
    "print(np.__version__)"
   ]
  },
  {
   "cell_type": "markdown",
   "metadata": {},
   "source": [
    "#### 3. Generate a 2x3x5 3-dimensional array with random values. Assign the array to variable *a*.\n",
    "**Challenge**: there are at least three easy ways that use numpy to generate random arrays. How many ways can you find?"
   ]
  },
  {
   "cell_type": "code",
   "execution_count": 4,
   "metadata": {},
   "outputs": [
    {
     "name": "stdout",
     "output_type": "stream",
     "text": [
      "[[[0.06675061 0.25494078 0.90654987 0.43039452 0.52339708]\n",
      "  [0.11179055 0.01313449 0.20164018 0.91265824 0.71916977]\n",
      "  [0.88007742 0.48473614 0.04461235 0.24438398 0.64477402]]\n",
      "\n",
      " [[0.06291566 0.27588606 0.27848    0.59657083 0.09619029]\n",
      "  [0.66831439 0.6190525  0.81964901 0.65119866 0.9609361 ]\n",
      "  [0.99141746 0.34255785 0.46406226 0.0720644  0.56531175]]]\n"
     ]
    }
   ],
   "source": [
    "# Method 1\n",
    "\n",
    "a = np.random.random((2,3,5))\n",
    "print(a)"
   ]
  },
  {
   "cell_type": "code",
   "execution_count": null,
   "metadata": {},
   "outputs": [],
   "source": [
    "# Method 2\n",
    "\n",
    "a = np.random.rand((2,3,5))\n",
    "print(a)"
   ]
  },
  {
   "cell_type": "code",
   "execution_count": null,
   "metadata": {},
   "outputs": [],
   "source": [
    "# Method 3"
   ]
  },
  {
   "cell_type": "markdown",
   "metadata": {},
   "source": [
    "#### 4. Print *a*.\n"
   ]
  },
  {
   "cell_type": "code",
   "execution_count": 5,
   "metadata": {},
   "outputs": [
    {
     "name": "stdout",
     "output_type": "stream",
     "text": [
      "[[[0.06675061 0.25494078 0.90654987 0.43039452 0.52339708]\n",
      "  [0.11179055 0.01313449 0.20164018 0.91265824 0.71916977]\n",
      "  [0.88007742 0.48473614 0.04461235 0.24438398 0.64477402]]\n",
      "\n",
      " [[0.06291566 0.27588606 0.27848    0.59657083 0.09619029]\n",
      "  [0.66831439 0.6190525  0.81964901 0.65119866 0.9609361 ]\n",
      "  [0.99141746 0.34255785 0.46406226 0.0720644  0.56531175]]]\n"
     ]
    }
   ],
   "source": [
    "# your code here\n",
    "print(a)"
   ]
  },
  {
   "cell_type": "markdown",
   "metadata": {},
   "source": [
    "#### 5. Create a 5x2x3 3-dimensional array with all values equaling 1. Assign the array to variable *b*."
   ]
  },
  {
   "cell_type": "code",
   "execution_count": 6,
   "metadata": {},
   "outputs": [
    {
     "name": "stdout",
     "output_type": "stream",
     "text": [
      "(5, 2, 3)\n"
     ]
    }
   ],
   "source": [
    "# your code here\n",
    "b = np.ones((5,2,3))\n",
    "print(b.shape)"
   ]
  },
  {
   "cell_type": "markdown",
   "metadata": {},
   "source": [
    "#### 6. Print *b*.\n"
   ]
  },
  {
   "cell_type": "code",
   "execution_count": 7,
   "metadata": {},
   "outputs": [
    {
     "name": "stdout",
     "output_type": "stream",
     "text": [
      "[[[1. 1. 1.]\n",
      "  [1. 1. 1.]]\n",
      "\n",
      " [[1. 1. 1.]\n",
      "  [1. 1. 1.]]\n",
      "\n",
      " [[1. 1. 1.]\n",
      "  [1. 1. 1.]]\n",
      "\n",
      " [[1. 1. 1.]\n",
      "  [1. 1. 1.]]\n",
      "\n",
      " [[1. 1. 1.]\n",
      "  [1. 1. 1.]]]\n"
     ]
    }
   ],
   "source": [
    "# your code here\n",
    "print(b)"
   ]
  },
  {
   "cell_type": "markdown",
   "metadata": {},
   "source": [
    "#### 7. Do *a* and *b* have the same size? How do you prove that in Python code?"
   ]
  },
  {
   "cell_type": "code",
   "execution_count": 8,
   "metadata": {},
   "outputs": [
    {
     "name": "stdout",
     "output_type": "stream",
     "text": [
      "30\n",
      "30\n",
      "True\n"
     ]
    }
   ],
   "source": [
    "# your code here\n",
    "print(a.size)\n",
    "print(b.size)\n",
    "\n",
    "print(b.size==a.size)"
   ]
  },
  {
   "cell_type": "markdown",
   "metadata": {},
   "source": [
    "#### 8. Are you able to add *a* and *b*? Why or why not?\n"
   ]
  },
  {
   "cell_type": "code",
   "execution_count": 25,
   "metadata": {},
   "outputs": [],
   "source": [
    "# your answer here\n",
    "\n",
    "# print(np.add(a,b))\n",
    "# No not possible because the frame is different"
   ]
  },
  {
   "cell_type": "markdown",
   "metadata": {},
   "source": [
    "#### 9. Transpose *b* so that it has the same structure of *a* (i.e. become a 2x3x5 array). Assign the transposed array to variable *c*."
   ]
  },
  {
   "cell_type": "code",
   "execution_count": 9,
   "metadata": {},
   "outputs": [
    {
     "name": "stdout",
     "output_type": "stream",
     "text": [
      "[[[1. 1. 1. 1. 1.]\n",
      "  [1. 1. 1. 1. 1.]\n",
      "  [1. 1. 1. 1. 1.]]\n",
      "\n",
      " [[1. 1. 1. 1. 1.]\n",
      "  [1. 1. 1. 1. 1.]\n",
      "  [1. 1. 1. 1. 1.]]]\n"
     ]
    }
   ],
   "source": [
    "# your code here\n",
    "# c = b.transpose().shape\n",
    "# print(c)\n",
    "\n",
    "\n",
    "\n",
    "c = np.reshape(b, (2,3,5))\n",
    "print(c)\n"
   ]
  },
  {
   "cell_type": "markdown",
   "metadata": {},
   "source": [
    "#### 10. Try to add *a* and *c*. Now it should work. Assign the sum to variable *d*. But why does it work now?"
   ]
  },
  {
   "cell_type": "code",
   "execution_count": 17,
   "metadata": {},
   "outputs": [
    {
     "name": "stdout",
     "output_type": "stream",
     "text": [
      "[[[1.06675061 1.25494078 1.90654987 1.43039452 1.52339708]\n",
      "  [1.11179055 1.01313449 1.20164018 1.91265824 1.71916977]\n",
      "  [1.88007742 1.48473614 1.04461235 1.24438398 1.64477402]]\n",
      "\n",
      " [[1.06291566 1.27588606 1.27848    1.59657083 1.09619029]\n",
      "  [1.66831439 1.6190525  1.81964901 1.65119866 1.9609361 ]\n",
      "  [1.99141746 1.34255785 1.46406226 1.0720644  1.56531175]]]\n"
     ]
    }
   ],
   "source": [
    "# your code/answer here\n",
    "d = np.add(a,c)\n",
    "\n",
    "print(d)\n",
    "\n"
   ]
  },
  {
   "cell_type": "markdown",
   "metadata": {},
   "source": [
    "#### 11. Print *a* and *d*. Notice the difference and relation of the two array in terms of the values? Explain."
   ]
  },
  {
   "cell_type": "code",
   "execution_count": 18,
   "metadata": {},
   "outputs": [
    {
     "name": "stdout",
     "output_type": "stream",
     "text": [
      "[[[0.06675061 0.25494078 0.90654987 0.43039452 0.52339708]\n",
      "  [0.11179055 0.01313449 0.20164018 0.91265824 0.71916977]\n",
      "  [0.88007742 0.48473614 0.04461235 0.24438398 0.64477402]]\n",
      "\n",
      " [[0.06291566 0.27588606 0.27848    0.59657083 0.09619029]\n",
      "  [0.66831439 0.6190525  0.81964901 0.65119866 0.9609361 ]\n",
      "  [0.99141746 0.34255785 0.46406226 0.0720644  0.56531175]]]\n",
      "\n",
      "[[[1.06675061 1.25494078 1.90654987 1.43039452 1.52339708]\n",
      "  [1.11179055 1.01313449 1.20164018 1.91265824 1.71916977]\n",
      "  [1.88007742 1.48473614 1.04461235 1.24438398 1.64477402]]\n",
      "\n",
      " [[1.06291566 1.27588606 1.27848    1.59657083 1.09619029]\n",
      "  [1.66831439 1.6190525  1.81964901 1.65119866 1.9609361 ]\n",
      "  [1.99141746 1.34255785 1.46406226 1.0720644  1.56531175]]]\n"
     ]
    }
   ],
   "source": [
    "# your code/answer here\n",
    "\n",
    "print(a)\n",
    "print()\n",
    "print(d)"
   ]
  },
  {
   "cell_type": "markdown",
   "metadata": {},
   "source": [
    "#### 12. Multiply *a* and *c*. Assign the result to *e*."
   ]
  },
  {
   "cell_type": "code",
   "execution_count": 12,
   "metadata": {},
   "outputs": [
    {
     "name": "stdout",
     "output_type": "stream",
     "text": [
      "[[[0.06675061 0.25494078 0.90654987 0.43039452 0.52339708]\n",
      "  [0.11179055 0.01313449 0.20164018 0.91265824 0.71916977]\n",
      "  [0.88007742 0.48473614 0.04461235 0.24438398 0.64477402]]\n",
      "\n",
      " [[0.06291566 0.27588606 0.27848    0.59657083 0.09619029]\n",
      "  [0.66831439 0.6190525  0.81964901 0.65119866 0.9609361 ]\n",
      "  [0.99141746 0.34255785 0.46406226 0.0720644  0.56531175]]]\n"
     ]
    }
   ],
   "source": [
    "# your code here\n",
    "e = np.multiply(a,c)\n",
    "print(e)"
   ]
  },
  {
   "cell_type": "markdown",
   "metadata": {},
   "source": [
    "#### 13. Does *e* equal to *a*? Why or why not?\n"
   ]
  },
  {
   "cell_type": "code",
   "execution_count": 14,
   "metadata": {},
   "outputs": [
    {
     "name": "stdout",
     "output_type": "stream",
     "text": [
      "[[[0.06675061 0.25494078 0.90654987 0.43039452 0.52339708]\n",
      "  [0.11179055 0.01313449 0.20164018 0.91265824 0.71916977]\n",
      "  [0.88007742 0.48473614 0.04461235 0.24438398 0.64477402]]\n",
      "\n",
      " [[0.06291566 0.27588606 0.27848    0.59657083 0.09619029]\n",
      "  [0.66831439 0.6190525  0.81964901 0.65119866 0.9609361 ]\n",
      "  [0.99141746 0.34255785 0.46406226 0.0720644  0.56531175]]]\n",
      "[[[0.06675061 0.25494078 0.90654987 0.43039452 0.52339708]\n",
      "  [0.11179055 0.01313449 0.20164018 0.91265824 0.71916977]\n",
      "  [0.88007742 0.48473614 0.04461235 0.24438398 0.64477402]]\n",
      "\n",
      " [[0.06291566 0.27588606 0.27848    0.59657083 0.09619029]\n",
      "  [0.66831439 0.6190525  0.81964901 0.65119866 0.9609361 ]\n",
      "  [0.99141746 0.34255785 0.46406226 0.0720644  0.56531175]]]\n"
     ]
    }
   ],
   "source": [
    "# your code/answer here\n",
    "\n",
    "print(e)\n",
    "print(a)\n",
    "\n",
    "# yes multiplied by 1"
   ]
  },
  {
   "cell_type": "markdown",
   "metadata": {},
   "source": [
    "#### 14. Identify the max, min, and mean values in *d*. Assign those values to variables *d_max*, *d_min* and *d_mean*."
   ]
  },
  {
   "cell_type": "code",
   "execution_count": 19,
   "metadata": {},
   "outputs": [
    {
     "name": "stdout",
     "output_type": "stream",
     "text": [
      "1.991417463402274\n",
      "1.01313448954012\n",
      "1.4634539070546404\n"
     ]
    }
   ],
   "source": [
    "# your code here\n",
    "\n",
    "d_max = np.max(d)\n",
    "d_min = np.min(d)\n",
    "d_mean = np.mean(d)\n",
    "\n",
    "print(d_max)\n",
    "print(d_min)\n",
    "print(d_mean)\n",
    " "
   ]
  },
  {
   "cell_type": "markdown",
   "metadata": {},
   "source": [
    "#### 15. Now we want to label the values in *d*. First create an empty array *f* with the same shape (i.e. 2x3x5) as *d* using `np.empty`.\n"
   ]
  },
  {
   "cell_type": "code",
   "execution_count": 23,
   "metadata": {},
   "outputs": [
    {
     "name": "stdout",
     "output_type": "stream",
     "text": [
      "[[[1.06675061 1.25494078 1.90654987 1.43039452 1.52339708]\n",
      "  [1.11179055 1.01313449 1.20164018 1.91265824 1.71916977]\n",
      "  [1.88007742 1.48473614 1.04461235 1.24438398 1.64477402]]\n",
      "\n",
      " [[1.06291566 1.27588606 1.27848    1.59657083 1.09619029]\n",
      "  [1.66831439 1.6190525  1.81964901 1.65119866 1.9609361 ]\n",
      "  [1.99141746 1.34255785 1.46406226 1.0720644  1.56531175]]]\n"
     ]
    }
   ],
   "source": [
    "# your code here\n",
    "\n",
    "f = np.empty((2,3,5))\n",
    "print(f)\n"
   ]
  },
  {
   "cell_type": "markdown",
   "metadata": {},
   "source": [
    "#### 16. Populate the values in *f*. \n",
    "\n",
    "For each value in *d*, if it's larger than *d_min* but smaller than *d_mean*, assign 25 to the corresponding value in *f*. If a value in *d* is larger than *d_mean* but smaller than *d_max*, assign 75 to the corresponding value in *f*. If a value equals to *d_mean*, assign 50 to the corresponding value in *f*. Assign 0 to the corresponding value(s) in *f* for *d_min* in *d*. Assign 100 to the corresponding value(s) in *f* for *d_max* in *d*. In the end, f should have only the following values: 0, 25, 50, 75, and 100.\n",
    "\n",
    "**Note**: you don't have to use Numpy in this question."
   ]
  },
  {
   "cell_type": "code",
   "execution_count": 30,
   "metadata": {},
   "outputs": [
    {
     "name": "stdout",
     "output_type": "stream",
     "text": [
      "[[[ 25.  25.  75.  25.  75.]\n",
      "  [ 25.   0.  25.  75.  75.]\n",
      "  [ 75.  75.  25.  25.  75.]]\n",
      "\n",
      " [[ 25.  25.  25.  75.  25.]\n",
      "  [ 75.  75.  75.  75.  75.]\n",
      "  [100.  25.  75.  25.  75.]]]\n"
     ]
    }
   ],
   "source": [
    "# your code here\n",
    "\n",
    "# > d_min but < d_mean = 25\n",
    "# > d_mean but < d_max = 75\n",
    "# = d_mean = 50\n",
    "# = d_min = 0\n",
    "# = d_max = 100\n",
    "\n",
    "for x in range(2):\n",
    "    for y in range(3):\n",
    "        for z in range(5):\n",
    "            if d[x][y][z] > d_min and d[x][y][z] < d_mean:\n",
    "                f[x][y][z] = 25\n",
    "            elif d[x][y][z] > d_mean and d[x][y][z] < d_max:\n",
    "                f[x][y][z] = 75\n",
    "            elif d[x][y][z] == d_mean:\n",
    "                f[x][y][z] = 50\n",
    "            elif d[x][y][z] == d_min:\n",
    "                f[x][y][z] = 0\n",
    "            elif d[x][y][z] == d_max:\n",
    "                f[x][y][z] = 100\n",
    "                \n",
    "print(f)\n",
    "\n",
    "# for x in d:\n",
    "#     for y in x:\n",
    "#         for z in y:\n",
    "    "
   ]
  },
  {
   "cell_type": "markdown",
   "metadata": {},
   "source": [
    "#### 17. Print *d* and *f*. Do you have your expected *f*?\n",
    "For instance, if your *d* is:\n",
    "```python\n",
    "[[[1.85836099, 1.67064465, 1.62576044, 1.40243961, 1.88454931],\n",
    "[1.75354326, 1.69403643, 1.36729252, 1.61415071, 1.12104981],\n",
    "[1.72201435, 1.1862918 , 1.87078449, 1.7726778 , 1.88180042]],\n",
    "[[1.44747908, 1.31673383, 1.02000951, 1.52218947, 1.97066381],\n",
    "[1.79129243, 1.74983003, 1.96028037, 1.85166831, 1.65450881],\n",
    "[1.18068344, 1.9587381 , 1.00656599, 1.93402165, 1.73514584]]]\n",
    "```\n",
    "Your *f* should be:\n",
    "```python\n",
    "[[[ 75.,  75.,  75.,  25.,  75.],\n",
    "[ 75.,  75.,  25.,  25.,  25.],\n",
    "[ 75.,  25.,  75.,  75.,  75.]],\n",
    "[[ 25.,  25.,  25.,  25., 100.],\n",
    "[ 75.,  75.,  75.,  75.,  75.],\n",
    "[ 25.,  75.,   0.,  75.,  75.]]]\n",
    "```"
   ]
  },
  {
   "cell_type": "code",
   "execution_count": 42,
   "metadata": {},
   "outputs": [
    {
     "name": "stdout",
     "output_type": "stream",
     "text": [
      "[[[1.06675061 1.25494078 1.90654987 1.43039452 1.52339708]\n",
      "  [1.11179055 1.01313449 1.20164018 1.91265824 1.71916977]\n",
      "  [1.88007742 1.48473614 1.04461235 1.24438398 1.64477402]]\n",
      "\n",
      " [[1.06291566 1.27588606 1.27848    1.59657083 1.09619029]\n",
      "  [1.66831439 1.6190525  1.81964901 1.65119866 1.9609361 ]\n",
      "  [1.99141746 1.34255785 1.46406226 1.0720644  1.56531175]]]\n",
      "[[['B' 'B' 'D' 'B' 'D']\n",
      "  ['B' 'A' 'B' 'D' 'D']\n",
      "  ['D' 'D' 'B' 'B' 'D']]\n",
      "\n",
      " [['B' 'B' 'B' 'D' 'B']\n",
      "  ['D' 'D' 'D' 'D' 'D']\n",
      "  ['E' 'B' 'D' 'B' 'D']]]\n"
     ]
    }
   ],
   "source": [
    "# your code here\n",
    "\n",
    "print(d)\n",
    "\n",
    "print(f)"
   ]
  },
  {
   "cell_type": "markdown",
   "metadata": {},
   "source": [
    "#### 18. Bonus question: instead of using numbers (i.e. 0, 25, 50, 75, and 100), use string values  (\"A\", \"B\", \"C\", \"D\", and \"E\") to label the array elements. For the example above, the expected result is:\n",
    "\n",
    "```python\n",
    "[[[ 'D',  'D',  'D',  'B',  'D'],\n",
    "[ 'D',  'D',  'B',  'B',  'B'],\n",
    "[ 'D',  'B',  'D',  'D',  'D']],\n",
    "[[ 'B',  'B',  'B',  'B',  'E'],\n",
    "[ 'D',  'D',  'D',  'D',  'D'],\n",
    "[ 'B',  'D',   'A',  'D', 'D']]]\n",
    "```\n",
    "**Note**: you don't have to use Numpy in this question."
   ]
  },
  {
   "cell_type": "code",
   "execution_count": 40,
   "metadata": {},
   "outputs": [
    {
     "name": "stdout",
     "output_type": "stream",
     "text": [
      "[[['B' 'B' 'D' 'B' 'D']\n",
      "  ['B' 'A' 'B' 'D' 'D']\n",
      "  ['D' 'D' 'B' 'B' 'D']]\n",
      "\n",
      " [['B' 'B' 'B' 'D' 'B']\n",
      "  ['D' 'D' 'D' 'D' 'D']\n",
      "  ['E' 'B' 'D' 'B' 'D']]]\n"
     ]
    }
   ],
   "source": [
    "# your code here\n",
    "\n",
    "f = np.array(f, dtype = 'object')\n",
    "\n",
    "for x in range(2):\n",
    "    for y in range(3):\n",
    "        for z in range(5):\n",
    "            if d[x][y][z] > d_min and d[x][y][z] < d_mean:\n",
    "                f[x][y][z] = 'B'\n",
    "            elif d[x][y][z] > d_mean and d[x][y][z] < d_max:\n",
    "                f[x][y][z] = 'D'\n",
    "            elif d[x][y][z] == d_mean:\n",
    "                f[x][y][z] = 'C'\n",
    "            elif d[x][y][z] == d_min:\n",
    "                f[x][y][z] = 'A'\n",
    "            elif d[x][y][z] == d_max:\n",
    "                f[x][y][z] = 'E'\n",
    "                \n",
    "print(f)             \n"
   ]
  },
  {
   "cell_type": "code",
   "execution_count": null,
   "metadata": {},
   "outputs": [],
   "source": []
  }
 ],
 "metadata": {
  "kernelspec": {
   "display_name": "Python 3",
   "language": "python",
   "name": "python3"
  },
  "language_info": {
   "codemirror_mode": {
    "name": "ipython",
    "version": 3
   },
   "file_extension": ".py",
   "mimetype": "text/x-python",
   "name": "python",
   "nbconvert_exporter": "python",
   "pygments_lexer": "ipython3",
   "version": "3.7.0"
  }
 },
 "nbformat": 4,
 "nbformat_minor": 2
}
