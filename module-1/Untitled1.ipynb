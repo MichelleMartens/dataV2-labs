{
 "cells": [
  {
   "cell_type": "code",
   "execution_count": null,
   "metadata": {},
   "outputs": [],
   "source": [
    "# Define a method/function that removes from a given array of integers all the values contained in a second array."
   ]
  },
  {
   "cell_type": "code",
   "execution_count": 50,
   "metadata": {},
   "outputs": [
    {
     "data": {
      "text/plain": [
       "[2, 2, 4]"
      ]
     },
     "execution_count": 50,
     "metadata": {},
     "output_type": "execute_result"
    }
   ],
   "source": [
    "class remove:\n",
    "    \n",
    "    def getNewList(integer_list, values_list):\n",
    "        lst = []  \n",
    "        for number in integer_list:\n",
    "            if number not in values_list:\n",
    "                lst.append(number)\n",
    "        return lst\n",
    "        \n",
    "integer_list = [1, 1, 2 ,3 ,1 ,2 ,3 ,4]\n",
    "values_list = [1, 3]\n",
    "\n",
    "remove.getNewList(integer_list, values_list)\n",
    "\n"
   ]
  },
  {
   "cell_type": "code",
   "execution_count": 52,
   "metadata": {},
   "outputs": [],
   "source": [
    "class newlst(list):\n",
    "\n",
    "    def remove_(self, values_list):\n",
    "        new_lst = [number for number in self if number not in values_list]\n",
    "        print(new_lst)\n"
   ]
  },
  {
   "cell_type": "code",
   "execution_count": 56,
   "metadata": {},
   "outputs": [
    {
     "name": "stdout",
     "output_type": "stream",
     "text": [
      "[2, 2, 4]\n"
     ]
    }
   ],
   "source": [
    "integer_list = [1, 1, 2 ,3 ,1 ,2 ,3 ,4]\n",
    "values_list = [1, 3]\n",
    "\n",
    "newlst(integer_list).remove_(values_list)"
   ]
  },
  {
   "cell_type": "code",
   "execution_count": null,
   "metadata": {},
   "outputs": [],
   "source": [
    "# class Employee():\n",
    "    \n",
    "#     annual_raise = 1.04\n",
    "    \n",
    "#     def __init__(self, name, age, salary, department='sales'):\n",
    "#         self.name = name\n",
    "#         self.age = age\n",
    "#         self.salary = salary\n",
    "#         self.department = department\n",
    "        \n",
    "#     def showEmp(self, show_sal = False):\n",
    "#         print ('Emp name: ' + self.name)\n",
    "#         print ('Emp age: ' + str(self.age))\n",
    "#         if show_sal:\n",
    "#             print('Emp sal :' + str(self.salary))\n",
    "    \n",
    "#     def giveRaise(self):\n",
    "#         self.salary = round(self.salary * self.annual_raise)\n",
    "        \n",
    "        \n",
    "        \n",
    "# emp1 = Employee('Sally', 25, 2800)\n",
    "# emp2 = Employee('Harry', 24, 2600, 'marketing')"
   ]
  },
  {
   "cell_type": "code",
   "execution_count": null,
   "metadata": {},
   "outputs": [],
   "source": []
  },
  {
   "cell_type": "code",
   "execution_count": 58,
   "metadata": {},
   "outputs": [],
   "source": [
    "class Count(list):\n",
    "        \n",
    "    def count_digits(self, digits_list):\n",
    "        return [(digit,sum([str(i).count(str(digit)) for i in self])) for digit in digits_list]\n",
    "    \n",
    "    \n",
    "#     .countSpecDigits()\n",
    "#     .count_spec_digits()\n",
    "    \n"
   ]
  },
  {
   "cell_type": "code",
   "execution_count": 59,
   "metadata": {},
   "outputs": [
    {
     "data": {
      "text/plain": [
       "[(1, 3), (3, 2)]"
      ]
     },
     "execution_count": 59,
     "metadata": {},
     "output_type": "execute_result"
    }
   ],
   "source": [
    "integers_list =  [1, 1, 2 ,3 ,1 ,2 ,3 ,4]\n",
    "digits_list = [1, 3]\n",
    "\n",
    "\n",
    "Count(integer_list).count_digits(digits_list)\n",
    "\n",
    "# l.count_spec_digits(integers_list, digits_list) == [(1, 3), (3, 2)]"
   ]
  },
  {
   "cell_type": "code",
   "execution_count": 60,
   "metadata": {},
   "outputs": [],
   "source": [
    "input = \"abracadabra\"\n",
    "\n",
    "from collections import Counter\n"
   ]
  },
  {
   "cell_type": "code",
   "execution_count": 61,
   "metadata": {},
   "outputs": [],
   "source": [
    "class CountOrder(list):\n",
    "    \n",
    "    def order_count(input):\n",
    "        return list(Counter(input).items())"
   ]
  },
  {
   "cell_type": "code",
   "execution_count": 63,
   "metadata": {},
   "outputs": [
    {
     "data": {
      "text/plain": [
       "[('a', 5), ('b', 2), ('r', 2), ('c', 1), ('d', 1)]"
      ]
     },
     "execution_count": 63,
     "metadata": {},
     "output_type": "execute_result"
    }
   ],
   "source": [
    "CountOrder.order_count(input)"
   ]
  },
  {
   "cell_type": "code",
   "execution_count": null,
   "metadata": {},
   "outputs": [],
   "source": [
    "ordered_count(\"abracadabra\") == [('a', 5), ('b', 2), ('r', 2), ('c', 1), ('d', 1)]\n"
   ]
  }
 ],
 "metadata": {
  "kernelspec": {
   "display_name": "Python 3",
   "language": "python",
   "name": "python3"
  },
  "language_info": {
   "codemirror_mode": {
    "name": "ipython",
    "version": 3
   },
   "file_extension": ".py",
   "mimetype": "text/x-python",
   "name": "python",
   "nbconvert_exporter": "python",
   "pygments_lexer": "ipython3",
   "version": "3.7.0"
  }
 },
 "nbformat": 4,
 "nbformat_minor": 2
}
