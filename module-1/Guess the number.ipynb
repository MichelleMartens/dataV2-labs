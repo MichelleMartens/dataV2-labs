{
 "cells": [
  {
   "cell_type": "code",
   "execution_count": null,
   "metadata": {},
   "outputs": [],
   "source": [
    "# Guess The Number\n",
    "\n",
    "# Computer chooses a random number up to 100\n",
    "# human gets 8 tries to guess the number\n",
    "# if number is wrong, computer says 'higher' or 'lower'"
   ]
  },
  {
   "cell_type": "code",
   "execution_count": null,
   "metadata": {},
   "outputs": [],
   "source": [
    "import random\n",
    "\n",
    "n = random.randint(0,100)\n",
    "\n",
    "guess = int(input(\"Guess a number between 1 and 100: \"))\n",
    "while n != \"guess\":\n",
    "    print\n",
    "    if guess < n:\n",
    "        print(\"guess is too low\")\n",
    "        guess = int(input(\"You can try again! Guess a number between 1 and 100\"))\n",
    "    elif guess > n:\n",
    "        print(\"guess is high\")\n",
    "        guess = int(input(\"You can try again! Guess a number between 1 and 100\"))\n",
    "    else:\n",
    "        print(\"Yes!! You guessed it!!\")\n",
    "        break\n",
    "    print \n",
    "\n",
    "\n",
    "\n",
    "\n"
   ]
  },
  {
   "cell_type": "code",
   "execution_count": null,
   "metadata": {},
   "outputs": [],
   "source": []
  }
 ],
 "metadata": {
  "kernelspec": {
   "display_name": "Python 3",
   "language": "python",
   "name": "python3"
  },
  "language_info": {
   "codemirror_mode": {
    "name": "ipython",
    "version": 3
   },
   "file_extension": ".py",
   "mimetype": "text/x-python",
   "name": "python",
   "nbconvert_exporter": "python",
   "pygments_lexer": "ipython3",
   "version": "3.7.0"
  }
 },
 "nbformat": 4,
 "nbformat_minor": 2
}
