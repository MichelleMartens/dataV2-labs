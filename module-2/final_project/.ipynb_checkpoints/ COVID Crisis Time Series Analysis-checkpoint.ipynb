{
 "cells": [
  {
   "cell_type": "code",
   "execution_count": 3,
   "metadata": {},
   "outputs": [],
   "source": [
    "import pandas as pd\n",
    "import numpy as np\n",
    "import seaborn as sns\n",
    "import matplotlib.pyplot as plt\n",
    "import plotly.figure_factory as ff\n",
    "import plotly.express as px"
   ]
  },
  {
   "cell_type": "code",
   "execution_count": 4,
   "metadata": {},
   "outputs": [
    {
     "data": {
      "text/plain": [
       "Date          object\n",
       "Adj Close    float64\n",
       "Close        float64\n",
       "High         float64\n",
       "Low          float64\n",
       "Open         float64\n",
       "Ticker        object\n",
       "Volume       float64\n",
       "Name          object\n",
       "Sector        object\n",
       "dtype: object"
      ]
     },
     "execution_count": 4,
     "metadata": {},
     "output_type": "execute_result"
    }
   ],
   "source": [
    "stock = pd.read_csv('merged_stock_clean.csv')\n",
    "stock.drop(columns=['Unnamed: 0'], inplace=True)\n",
    "stock.dtypes"
   ]
  },
  {
   "cell_type": "code",
   "execution_count": 5,
   "metadata": {},
   "outputs": [
    {
     "data": {
      "text/html": [
       "<div>\n",
       "<style scoped>\n",
       "    .dataframe tbody tr th:only-of-type {\n",
       "        vertical-align: middle;\n",
       "    }\n",
       "\n",
       "    .dataframe tbody tr th {\n",
       "        vertical-align: top;\n",
       "    }\n",
       "\n",
       "    .dataframe thead th {\n",
       "        text-align: right;\n",
       "    }\n",
       "</style>\n",
       "<table border=\"1\" class=\"dataframe\">\n",
       "  <thead>\n",
       "    <tr style=\"text-align: right;\">\n",
       "      <th></th>\n",
       "      <th>Date</th>\n",
       "      <th>Adj Close</th>\n",
       "      <th>Close</th>\n",
       "      <th>High</th>\n",
       "      <th>Low</th>\n",
       "      <th>Open</th>\n",
       "      <th>Ticker</th>\n",
       "      <th>Volume</th>\n",
       "      <th>Name</th>\n",
       "      <th>Sector</th>\n",
       "    </tr>\n",
       "    <tr>\n",
       "      <th>Date</th>\n",
       "      <th></th>\n",
       "      <th></th>\n",
       "      <th></th>\n",
       "      <th></th>\n",
       "      <th></th>\n",
       "      <th></th>\n",
       "      <th></th>\n",
       "      <th></th>\n",
       "      <th></th>\n",
       "      <th></th>\n",
       "    </tr>\n",
       "  </thead>\n",
       "  <tbody>\n",
       "    <tr>\n",
       "      <th>2015-11-18</th>\n",
       "      <td>2015-11-18</td>\n",
       "      <td>137.250717</td>\n",
       "      <td>157.389999</td>\n",
       "      <td>157.500000</td>\n",
       "      <td>156.080002</td>\n",
       "      <td>156.179993</td>\n",
       "      <td>MMM</td>\n",
       "      <td>2226900.0</td>\n",
       "      <td>3M Company</td>\n",
       "      <td>Industrials</td>\n",
       "    </tr>\n",
       "    <tr>\n",
       "      <th>2015-11-19</th>\n",
       "      <td>2015-11-19</td>\n",
       "      <td>138.114029</td>\n",
       "      <td>158.380005</td>\n",
       "      <td>158.509995</td>\n",
       "      <td>156.710007</td>\n",
       "      <td>157.630005</td>\n",
       "      <td>MMM</td>\n",
       "      <td>1518200.0</td>\n",
       "      <td>3M Company</td>\n",
       "      <td>Industrials</td>\n",
       "    </tr>\n",
       "    <tr>\n",
       "      <th>2015-11-20</th>\n",
       "      <td>2015-11-20</td>\n",
       "      <td>138.611099</td>\n",
       "      <td>158.949997</td>\n",
       "      <td>159.839996</td>\n",
       "      <td>158.339996</td>\n",
       "      <td>158.679993</td>\n",
       "      <td>MMM</td>\n",
       "      <td>1891100.0</td>\n",
       "      <td>3M Company</td>\n",
       "      <td>Industrials</td>\n",
       "    </tr>\n",
       "    <tr>\n",
       "      <th>2015-11-23</th>\n",
       "      <td>2015-11-23</td>\n",
       "      <td>138.349503</td>\n",
       "      <td>158.649994</td>\n",
       "      <td>159.770004</td>\n",
       "      <td>158.160004</td>\n",
       "      <td>158.899994</td>\n",
       "      <td>MMM</td>\n",
       "      <td>1430400.0</td>\n",
       "      <td>3M Company</td>\n",
       "      <td>Industrials</td>\n",
       "    </tr>\n",
       "    <tr>\n",
       "      <th>2015-11-24</th>\n",
       "      <td>2015-11-24</td>\n",
       "      <td>137.564667</td>\n",
       "      <td>157.750000</td>\n",
       "      <td>158.339996</td>\n",
       "      <td>156.889999</td>\n",
       "      <td>157.369995</td>\n",
       "      <td>MMM</td>\n",
       "      <td>2100600.0</td>\n",
       "      <td>3M Company</td>\n",
       "      <td>Industrials</td>\n",
       "    </tr>\n",
       "    <tr>\n",
       "      <th>...</th>\n",
       "      <td>...</td>\n",
       "      <td>...</td>\n",
       "      <td>...</td>\n",
       "      <td>...</td>\n",
       "      <td>...</td>\n",
       "      <td>...</td>\n",
       "      <td>...</td>\n",
       "      <td>...</td>\n",
       "      <td>...</td>\n",
       "      <td>...</td>\n",
       "    </tr>\n",
       "    <tr>\n",
       "      <th>2020-11-11</th>\n",
       "      <td>2020-11-11</td>\n",
       "      <td>164.949997</td>\n",
       "      <td>164.949997</td>\n",
       "      <td>165.919998</td>\n",
       "      <td>163.330002</td>\n",
       "      <td>164.990005</td>\n",
       "      <td>ZTS</td>\n",
       "      <td>1570200.0</td>\n",
       "      <td>Zoetis</td>\n",
       "      <td>Health Care</td>\n",
       "    </tr>\n",
       "    <tr>\n",
       "      <th>2020-11-12</th>\n",
       "      <td>2020-11-12</td>\n",
       "      <td>165.190002</td>\n",
       "      <td>165.190002</td>\n",
       "      <td>166.600006</td>\n",
       "      <td>163.789993</td>\n",
       "      <td>164.160004</td>\n",
       "      <td>ZTS</td>\n",
       "      <td>1182800.0</td>\n",
       "      <td>Zoetis</td>\n",
       "      <td>Health Care</td>\n",
       "    </tr>\n",
       "    <tr>\n",
       "      <th>2020-11-13</th>\n",
       "      <td>2020-11-13</td>\n",
       "      <td>165.779999</td>\n",
       "      <td>165.779999</td>\n",
       "      <td>167.029999</td>\n",
       "      <td>164.509995</td>\n",
       "      <td>165.460007</td>\n",
       "      <td>ZTS</td>\n",
       "      <td>1666600.0</td>\n",
       "      <td>Zoetis</td>\n",
       "      <td>Health Care</td>\n",
       "    </tr>\n",
       "    <tr>\n",
       "      <th>2020-11-16</th>\n",
       "      <td>2020-11-16</td>\n",
       "      <td>165.289993</td>\n",
       "      <td>165.289993</td>\n",
       "      <td>168.520004</td>\n",
       "      <td>164.600006</td>\n",
       "      <td>166.369995</td>\n",
       "      <td>ZTS</td>\n",
       "      <td>1548000.0</td>\n",
       "      <td>Zoetis</td>\n",
       "      <td>Health Care</td>\n",
       "    </tr>\n",
       "    <tr>\n",
       "      <th>2020-11-17</th>\n",
       "      <td>2020-11-17</td>\n",
       "      <td>165.429993</td>\n",
       "      <td>165.429993</td>\n",
       "      <td>166.110001</td>\n",
       "      <td>164.070007</td>\n",
       "      <td>164.490005</td>\n",
       "      <td>ZTS</td>\n",
       "      <td>1214300.0</td>\n",
       "      <td>Zoetis</td>\n",
       "      <td>Health Care</td>\n",
       "    </tr>\n",
       "  </tbody>\n",
       "</table>\n",
       "<p>625653 rows × 10 columns</p>\n",
       "</div>"
      ],
      "text/plain": [
       "                 Date   Adj Close       Close        High         Low  \\\n",
       "Date                                                                    \n",
       "2015-11-18 2015-11-18  137.250717  157.389999  157.500000  156.080002   \n",
       "2015-11-19 2015-11-19  138.114029  158.380005  158.509995  156.710007   \n",
       "2015-11-20 2015-11-20  138.611099  158.949997  159.839996  158.339996   \n",
       "2015-11-23 2015-11-23  138.349503  158.649994  159.770004  158.160004   \n",
       "2015-11-24 2015-11-24  137.564667  157.750000  158.339996  156.889999   \n",
       "...               ...         ...         ...         ...         ...   \n",
       "2020-11-11 2020-11-11  164.949997  164.949997  165.919998  163.330002   \n",
       "2020-11-12 2020-11-12  165.190002  165.190002  166.600006  163.789993   \n",
       "2020-11-13 2020-11-13  165.779999  165.779999  167.029999  164.509995   \n",
       "2020-11-16 2020-11-16  165.289993  165.289993  168.520004  164.600006   \n",
       "2020-11-17 2020-11-17  165.429993  165.429993  166.110001  164.070007   \n",
       "\n",
       "                  Open Ticker     Volume        Name       Sector  \n",
       "Date                                                               \n",
       "2015-11-18  156.179993    MMM  2226900.0  3M Company  Industrials  \n",
       "2015-11-19  157.630005    MMM  1518200.0  3M Company  Industrials  \n",
       "2015-11-20  158.679993    MMM  1891100.0  3M Company  Industrials  \n",
       "2015-11-23  158.899994    MMM  1430400.0  3M Company  Industrials  \n",
       "2015-11-24  157.369995    MMM  2100600.0  3M Company  Industrials  \n",
       "...                ...    ...        ...         ...          ...  \n",
       "2020-11-11  164.990005    ZTS  1570200.0      Zoetis  Health Care  \n",
       "2020-11-12  164.160004    ZTS  1182800.0      Zoetis  Health Care  \n",
       "2020-11-13  165.460007    ZTS  1666600.0      Zoetis  Health Care  \n",
       "2020-11-16  166.369995    ZTS  1548000.0      Zoetis  Health Care  \n",
       "2020-11-17  164.490005    ZTS  1214300.0      Zoetis  Health Care  \n",
       "\n",
       "[625653 rows x 10 columns]"
      ]
     },
     "execution_count": 5,
     "metadata": {},
     "output_type": "execute_result"
    }
   ],
   "source": [
    "stock.Date = pd.to_datetime(stock.Date)\n",
    "stock.dtypes\n",
    "stock.index = pd.DatetimeIndex(stock.Date, freq='infer')\n",
    "stock"
   ]
  },
  {
   "cell_type": "code",
   "execution_count": 23,
   "metadata": {},
   "outputs": [
    {
     "data": {
      "text/html": [
       "<div>\n",
       "<style scoped>\n",
       "    .dataframe tbody tr th:only-of-type {\n",
       "        vertical-align: middle;\n",
       "    }\n",
       "\n",
       "    .dataframe tbody tr th {\n",
       "        vertical-align: top;\n",
       "    }\n",
       "\n",
       "    .dataframe thead th {\n",
       "        text-align: right;\n",
       "    }\n",
       "</style>\n",
       "<table border=\"1\" class=\"dataframe\">\n",
       "  <thead>\n",
       "    <tr style=\"text-align: right;\">\n",
       "      <th></th>\n",
       "      <th>Date</th>\n",
       "      <th>adj_close</th>\n",
       "      <th>Close</th>\n",
       "      <th>High</th>\n",
       "      <th>Low</th>\n",
       "      <th>Open</th>\n",
       "      <th>Ticker</th>\n",
       "      <th>Volume</th>\n",
       "      <th>Name</th>\n",
       "      <th>Sector</th>\n",
       "    </tr>\n",
       "    <tr>\n",
       "      <th>Date</th>\n",
       "      <th></th>\n",
       "      <th></th>\n",
       "      <th></th>\n",
       "      <th></th>\n",
       "      <th></th>\n",
       "      <th></th>\n",
       "      <th></th>\n",
       "      <th></th>\n",
       "      <th></th>\n",
       "      <th></th>\n",
       "    </tr>\n",
       "  </thead>\n",
       "  <tbody>\n",
       "    <tr>\n",
       "      <th>2015-11-18</th>\n",
       "      <td>2015-11-18</td>\n",
       "      <td>137.250717</td>\n",
       "      <td>157.389999</td>\n",
       "      <td>157.500000</td>\n",
       "      <td>156.080002</td>\n",
       "      <td>156.179993</td>\n",
       "      <td>MMM</td>\n",
       "      <td>2226900.0</td>\n",
       "      <td>3M Company</td>\n",
       "      <td>Industrials</td>\n",
       "    </tr>\n",
       "    <tr>\n",
       "      <th>2015-11-19</th>\n",
       "      <td>2015-11-19</td>\n",
       "      <td>138.114029</td>\n",
       "      <td>158.380005</td>\n",
       "      <td>158.509995</td>\n",
       "      <td>156.710007</td>\n",
       "      <td>157.630005</td>\n",
       "      <td>MMM</td>\n",
       "      <td>1518200.0</td>\n",
       "      <td>3M Company</td>\n",
       "      <td>Industrials</td>\n",
       "    </tr>\n",
       "    <tr>\n",
       "      <th>2015-11-20</th>\n",
       "      <td>2015-11-20</td>\n",
       "      <td>138.611099</td>\n",
       "      <td>158.949997</td>\n",
       "      <td>159.839996</td>\n",
       "      <td>158.339996</td>\n",
       "      <td>158.679993</td>\n",
       "      <td>MMM</td>\n",
       "      <td>1891100.0</td>\n",
       "      <td>3M Company</td>\n",
       "      <td>Industrials</td>\n",
       "    </tr>\n",
       "    <tr>\n",
       "      <th>2015-11-23</th>\n",
       "      <td>2015-11-23</td>\n",
       "      <td>138.349503</td>\n",
       "      <td>158.649994</td>\n",
       "      <td>159.770004</td>\n",
       "      <td>158.160004</td>\n",
       "      <td>158.899994</td>\n",
       "      <td>MMM</td>\n",
       "      <td>1430400.0</td>\n",
       "      <td>3M Company</td>\n",
       "      <td>Industrials</td>\n",
       "    </tr>\n",
       "    <tr>\n",
       "      <th>2015-11-24</th>\n",
       "      <td>2015-11-24</td>\n",
       "      <td>137.564667</td>\n",
       "      <td>157.750000</td>\n",
       "      <td>158.339996</td>\n",
       "      <td>156.889999</td>\n",
       "      <td>157.369995</td>\n",
       "      <td>MMM</td>\n",
       "      <td>2100600.0</td>\n",
       "      <td>3M Company</td>\n",
       "      <td>Industrials</td>\n",
       "    </tr>\n",
       "    <tr>\n",
       "      <th>...</th>\n",
       "      <td>...</td>\n",
       "      <td>...</td>\n",
       "      <td>...</td>\n",
       "      <td>...</td>\n",
       "      <td>...</td>\n",
       "      <td>...</td>\n",
       "      <td>...</td>\n",
       "      <td>...</td>\n",
       "      <td>...</td>\n",
       "      <td>...</td>\n",
       "    </tr>\n",
       "    <tr>\n",
       "      <th>2020-11-11</th>\n",
       "      <td>2020-11-11</td>\n",
       "      <td>164.949997</td>\n",
       "      <td>164.949997</td>\n",
       "      <td>165.919998</td>\n",
       "      <td>163.330002</td>\n",
       "      <td>164.990005</td>\n",
       "      <td>ZTS</td>\n",
       "      <td>1570200.0</td>\n",
       "      <td>Zoetis</td>\n",
       "      <td>Health Care</td>\n",
       "    </tr>\n",
       "    <tr>\n",
       "      <th>2020-11-12</th>\n",
       "      <td>2020-11-12</td>\n",
       "      <td>165.190002</td>\n",
       "      <td>165.190002</td>\n",
       "      <td>166.600006</td>\n",
       "      <td>163.789993</td>\n",
       "      <td>164.160004</td>\n",
       "      <td>ZTS</td>\n",
       "      <td>1182800.0</td>\n",
       "      <td>Zoetis</td>\n",
       "      <td>Health Care</td>\n",
       "    </tr>\n",
       "    <tr>\n",
       "      <th>2020-11-13</th>\n",
       "      <td>2020-11-13</td>\n",
       "      <td>165.779999</td>\n",
       "      <td>165.779999</td>\n",
       "      <td>167.029999</td>\n",
       "      <td>164.509995</td>\n",
       "      <td>165.460007</td>\n",
       "      <td>ZTS</td>\n",
       "      <td>1666600.0</td>\n",
       "      <td>Zoetis</td>\n",
       "      <td>Health Care</td>\n",
       "    </tr>\n",
       "    <tr>\n",
       "      <th>2020-11-16</th>\n",
       "      <td>2020-11-16</td>\n",
       "      <td>165.289993</td>\n",
       "      <td>165.289993</td>\n",
       "      <td>168.520004</td>\n",
       "      <td>164.600006</td>\n",
       "      <td>166.369995</td>\n",
       "      <td>ZTS</td>\n",
       "      <td>1548000.0</td>\n",
       "      <td>Zoetis</td>\n",
       "      <td>Health Care</td>\n",
       "    </tr>\n",
       "    <tr>\n",
       "      <th>2020-11-17</th>\n",
       "      <td>2020-11-17</td>\n",
       "      <td>165.429993</td>\n",
       "      <td>165.429993</td>\n",
       "      <td>166.110001</td>\n",
       "      <td>164.070007</td>\n",
       "      <td>164.490005</td>\n",
       "      <td>ZTS</td>\n",
       "      <td>1214300.0</td>\n",
       "      <td>Zoetis</td>\n",
       "      <td>Health Care</td>\n",
       "    </tr>\n",
       "  </tbody>\n",
       "</table>\n",
       "<p>625635 rows × 10 columns</p>\n",
       "</div>"
      ],
      "text/plain": [
       "                 Date   adj_close       Close        High         Low  \\\n",
       "Date                                                                    \n",
       "2015-11-18 2015-11-18  137.250717  157.389999  157.500000  156.080002   \n",
       "2015-11-19 2015-11-19  138.114029  158.380005  158.509995  156.710007   \n",
       "2015-11-20 2015-11-20  138.611099  158.949997  159.839996  158.339996   \n",
       "2015-11-23 2015-11-23  138.349503  158.649994  159.770004  158.160004   \n",
       "2015-11-24 2015-11-24  137.564667  157.750000  158.339996  156.889999   \n",
       "...               ...         ...         ...         ...         ...   \n",
       "2020-11-11 2020-11-11  164.949997  164.949997  165.919998  163.330002   \n",
       "2020-11-12 2020-11-12  165.190002  165.190002  166.600006  163.789993   \n",
       "2020-11-13 2020-11-13  165.779999  165.779999  167.029999  164.509995   \n",
       "2020-11-16 2020-11-16  165.289993  165.289993  168.520004  164.600006   \n",
       "2020-11-17 2020-11-17  165.429993  165.429993  166.110001  164.070007   \n",
       "\n",
       "                  Open Ticker     Volume        Name       Sector  \n",
       "Date                                                               \n",
       "2015-11-18  156.179993    MMM  2226900.0  3M Company  Industrials  \n",
       "2015-11-19  157.630005    MMM  1518200.0  3M Company  Industrials  \n",
       "2015-11-20  158.679993    MMM  1891100.0  3M Company  Industrials  \n",
       "2015-11-23  158.899994    MMM  1430400.0  3M Company  Industrials  \n",
       "2015-11-24  157.369995    MMM  2100600.0  3M Company  Industrials  \n",
       "...                ...    ...        ...         ...          ...  \n",
       "2020-11-11  164.990005    ZTS  1570200.0      Zoetis  Health Care  \n",
       "2020-11-12  164.160004    ZTS  1182800.0      Zoetis  Health Care  \n",
       "2020-11-13  165.460007    ZTS  1666600.0      Zoetis  Health Care  \n",
       "2020-11-16  166.369995    ZTS  1548000.0      Zoetis  Health Care  \n",
       "2020-11-17  164.490005    ZTS  1214300.0      Zoetis  Health Care  \n",
       "\n",
       "[625635 rows x 10 columns]"
      ]
     },
     "execution_count": 23,
     "metadata": {},
     "output_type": "execute_result"
    }
   ],
   "source": [
    "stock = stock.rename(columns={'Adj Close': 'adj_close'})\n",
    "stock"
   ]
  },
  {
   "cell_type": "code",
   "execution_count": 6,
   "metadata": {},
   "outputs": [
    {
     "data": {
      "text/plain": [
       "Date         datetime64[ns]\n",
       "Adj Close           float64\n",
       "Close               float64\n",
       "High                float64\n",
       "Low                 float64\n",
       "Open                float64\n",
       "Ticker               object\n",
       "Volume              float64\n",
       "Name                 object\n",
       "Sector               object\n",
       "dtype: object"
      ]
     },
     "execution_count": 6,
     "metadata": {},
     "output_type": "execute_result"
    }
   ],
   "source": [
    "stock.isnull().sum()\n",
    "stock = stock.dropna()\n",
    "stock.isnull().sum()\n",
    "stock.dtypes"
   ]
  },
  {
   "cell_type": "code",
   "execution_count": 31,
   "metadata": {},
   "outputs": [
    {
     "name": "stdout",
     "output_type": "stream",
     "text": [
      "mean : 110.5015345713376\n"
     ]
    },
    {
     "data": {
      "image/png": "[encoded data removed]",
      "text/plain": [
       "<Figure size 432x288 with 4 Axes>"
      ]
     },
     "metadata": {
      "needs_background": "light"
     },
     "output_type": "display_data"
    }
   ],
   "source": [
    "import statsmodels.api as sm\n",
    "import matplotlib.pyplot as plt\n",
    "%matplotlib inline\n",
    "\n",
    "print('mean :' , stock.adj_close.mean())\n",
    "res = sm.tsa.seasonal_decompose(stock.adj_close, freq=60)\n",
    "resplot = res.plot()"
   ]
  },
  {
   "cell_type": "code",
   "execution_count": 30,
   "metadata": {},
   "outputs": [
    {
     "name": "stdout",
     "output_type": "stream",
     "text": [
      "mean : 110.5015345713376\n"
     ]
    },
    {
     "data": {
      "image/png": "[encoded data removed]",
      "text/plain": [
       "<Figure size 432x288 with 4 Axes>"
      ]
     },
     "metadata": {
      "needs_background": "light"
     },
     "output_type": "display_data"
    }
   ],
   "source": [
    "print('mean :' , stock.adj_close.mean())\n",
    "res = sm.tsa.seasonal_decompose(stock.adj_close, freq=80)\n",
    "resplot = res.plot()"
   ]
  },
  {
   "cell_type": "code",
   "execution_count": 26,
   "metadata": {},
   "outputs": [],
   "source": [
    "# from january 2020 untill today\n",
    "only_2020 = stock[stock.Date > '2020-01-01']"
   ]
  },
  {
   "cell_type": "code",
   "execution_count": 14,
   "metadata": {},
   "outputs": [
    {
     "data": {
      "text/plain": [
       "Date         datetime64[ns]\n",
       "Adj Close           float64\n",
       "Close               float64\n",
       "High                float64\n",
       "Low                 float64\n",
       "Open                float64\n",
       "Ticker               object\n",
       "Volume              float64\n",
       "Name                 object\n",
       "Sector               object\n",
       "dtype: object"
      ]
     },
     "execution_count": 14,
     "metadata": {},
     "output_type": "execute_result"
    }
   ],
   "source": [
    "only_2020.dtypes"
   ]
  },
  {
   "cell_type": "code",
   "execution_count": 27,
   "metadata": {},
   "outputs": [
    {
     "name": "stdout",
     "output_type": "stream",
     "text": [
      "mean : 137.54657237801698\n"
     ]
    },
    {
     "data": {
      "image/png": "[encoded data removed]",
      "text/plain": [
       "<Figure size 432x288 with 4 Axes>"
      ]
     },
     "metadata": {
      "needs_background": "light"
     },
     "output_type": "display_data"
    }
   ],
   "source": [
    "import statsmodels.api as sm\n",
    "import matplotlib.pyplot as plt\n",
    "%matplotlib inline\n",
    "\n",
    "print('mean :' , only_2020.adj_close.mean())\n",
    "res = sm.tsa.seasonal_decompose(only_2020.adj_close, freq=60)\n",
    "resplot = res.plot()"
   ]
  },
  {
   "cell_type": "code",
   "execution_count": 21,
   "metadata": {},
   "outputs": [
    {
     "name": "stdout",
     "output_type": "stream",
     "text": [
      "mean : 138.28251755093595\n"
     ]
    },
    {
     "data": {
      "image/png": "[encoded data removed]",
      "text/plain": [
       "<Figure size 432x288 with 4 Axes>"
      ]
     },
     "metadata": {
      "needs_background": "light"
     },
     "output_type": "display_data"
    }
   ],
   "source": [
    "import statsmodels.api as sm\n",
    "import matplotlib.pyplot as plt\n",
    "%matplotlib inline\n",
    "\n",
    "print('mean :' , only_2020.Close.mean())\n",
    "res = sm.tsa.seasonal_decompose(only_2020.Close, freq=1)\n",
    "resplot = res.plot()"
   ]
  },
  {
   "cell_type": "code",
   "execution_count": null,
   "metadata": {},
   "outputs": [],
   "source": []
  }
 ],
 "metadata": {
  "kernelspec": {
   "display_name": "Python 3",
   "language": "python",
   "name": "python3"
  },
  "language_info": {
   "codemirror_mode": {
    "name": "ipython",
    "version": 3
   },
   "file_extension": ".py",
   "mimetype": "text/x-python",
   "name": "python",
   "nbconvert_exporter": "python",
   "pygments_lexer": "ipython3",
   "version": "3.7.0"
  }
 },
 "nbformat": 4,
 "nbformat_minor": 2
}
