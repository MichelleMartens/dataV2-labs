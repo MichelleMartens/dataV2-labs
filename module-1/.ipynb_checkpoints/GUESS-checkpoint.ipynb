{
 "cells": [
  {
   "cell_type": "code",
   "execution_count": null,
   "metadata": {},
   "outputs": [],
   "source": [
    "import random\n",
    "\n",
    "guesses_taken = 0\n",
    "as_string = str(guesses_taken)\n",
    "\n",
    "print(\"\"\"Welcome to my first self buid game! Hopefully you're just as excited as I'm!\n",
    "\n",
    "What is your name?\"\"\")\n",
    "name = input()\n",
    "\n",
    "def guess_the_number():\n",
    "    n = random.randint(1, 5)\n",
    "\n",
    "n = random.randint(1, 5)\n",
    "\n",
    "print('\\nWell, ' + name + \", I am thinking of a number between 1 and 100. \\n\\nDon't worry, I will tell you if you are close!\")\n",
    "    \n",
    "guess = int(input(\"\"\"Take a guess: \"\"\"))\n",
    "\n",
    "while guesses_taken < 7:\n",
    "    guesses_taken = guesses_taken + 1\n",
    "    print\n",
    "    if guess > n:\n",
    "        print(\"\\nOh no! Your guess is too high!\")\n",
    "        if (guess - n) <= 10:\n",
    "            print(\"You're very close, you can do this!\")\n",
    "            guess = int(input(\"\\nHopefully you will guess again? \\nTake a guess: \"))\n",
    "        else:\n",
    "            guess = int(input(\"\\nHopefully you will guess again? \\nTake a guess: \"))\n",
    "    elif guess < n:\n",
    "        print(\"\\nOh no! Your guess is too low!\")\n",
    "        if (n - guess) <= 10:\n",
    "            print(\"You're very close, you can do this!\")\n",
    "            guess = int(input(\"\\nHopefully you will guess again? \\nTake a guess: \"))\n",
    "        else:\n",
    "            guess = int(input(\"\\nHopefully you will guess again? \\nTake a guess: \"))\n",
    "    elif guess == n:\n",
    "        as_string = str(guesses_taken)\n",
    "        print(\"\\nYou did it \" + name + \"! You guessed the number in \" + as_string + f\" guesses! It was {n}\")\n",
    "        break\n",
    "    else:\n",
    "        pass\n",
    "    \n",
    "        \n",
    "    if guesses_taken >= 7:\n",
    "        n = str(n)\n",
    "        print(\"\\nOh no, you didn't guess it. The number I was thinking of was \" + n + \".\")\n",
    "        guess = str(input(\"\\nWould you like to try again? Please typ yes or no: \"))\n",
    "    if guess == \"yes\":\n",
    "        continue \n",
    "\n",
    "    \n",
    "        \n",
    "    \n",
    "\n"
   ]
  }
 ],
 "metadata": {
  "kernelspec": {
   "display_name": "Python 3",
   "language": "python",
   "name": "python3"
  },
  "language_info": {
   "codemirror_mode": {
    "name": "ipython",
    "version": 3
   },
   "file_extension": ".py",
   "mimetype": "text/x-python",
   "name": "python",
   "nbconvert_exporter": "python",
   "pygments_lexer": "ipython3",
   "version": "3.7.0"
  }
 },
 "nbformat": 4,
 "nbformat_minor": 2
}
